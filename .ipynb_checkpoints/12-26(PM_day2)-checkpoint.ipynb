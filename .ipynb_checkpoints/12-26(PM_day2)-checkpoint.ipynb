{
 "cells": [
  {
   "cell_type": "code",
   "execution_count": 1,
   "metadata": {},
   "outputs": [
    {
     "data": {
      "text/plain": [
       "[0, 1, 2, 3, 4, 5, 6, 7, 8, 9]"
      ]
     },
     "execution_count": 1,
     "metadata": {},
     "output_type": "execute_result"
    }
   ],
   "source": [
    "# 내장 리스트  : 동적으로 데이터 생성\n",
    "[i for i in range(10)]"
   ]
  },
  {
   "cell_type": "code",
   "execution_count": 2,
   "metadata": {},
   "outputs": [
    {
     "data": {
      "text/plain": [
       "[0, 1, 4, 9, 16, 25, 36, 49, 64, 81]"
      ]
     },
     "execution_count": 2,
     "metadata": {},
     "output_type": "execute_result"
    }
   ],
   "source": [
    "[i**2 for i in range(10)]"
   ]
  },
  {
   "cell_type": "code",
   "execution_count": 3,
   "metadata": {},
   "outputs": [
    {
     "data": {
      "text/plain": [
       "{0: 0, 1: 1, 2: 8, 3: 27, 4: 64, 5: 125, 6: 216, 7: 343, 8: 512, 9: 729}"
      ]
     },
     "execution_count": 3,
     "metadata": {},
     "output_type": "execute_result"
    }
   ],
   "source": [
    "{i: i**3 for i in range(10)}"
   ]
  },
  {
   "cell_type": "code",
   "execution_count": 4,
   "metadata": {},
   "outputs": [
    {
     "data": {
      "text/plain": [
       "[0, 4, 16, 36, 64]"
      ]
     },
     "execution_count": 4,
     "metadata": {},
     "output_type": "execute_result"
    }
   ],
   "source": [
    "[i**2 for i in range(10) if i%2==0]"
   ]
  },
  {
   "cell_type": "code",
   "execution_count": 5,
   "metadata": {},
   "outputs": [
    {
     "data": {
      "text/plain": [
       "[(1, 10),\n",
       " (1, 11),\n",
       " (1, 12),\n",
       " (1, 13),\n",
       " (1, 14),\n",
       " (2, 10),\n",
       " (2, 11),\n",
       " (2, 12),\n",
       " (2, 13),\n",
       " (2, 14),\n",
       " (3, 10),\n",
       " (3, 11),\n",
       " (3, 12),\n",
       " (3, 13),\n",
       " (3, 14),\n",
       " (4, 10),\n",
       " (4, 11),\n",
       " (4, 12),\n",
       " (4, 13),\n",
       " (4, 14)]"
      ]
     },
     "execution_count": 5,
     "metadata": {},
     "output_type": "execute_result"
    }
   ],
   "source": [
    "#for r in rows:\n",
    "#   for c in cols:\n",
    "#      (r, c)\n",
    "rows= range(1,5)\n",
    "cols= range(10,15)\n",
    "vectors = [(r, c) for r in rows for c in cols]\n",
    "vectors"
   ]
  },
  {
   "cell_type": "code",
   "execution_count": 6,
   "metadata": {},
   "outputs": [
    {
     "data": {
      "text/plain": [
       "[1,\n",
       " 2,\n",
       " '3의 배수',\n",
       " 4,\n",
       " '5의 배수',\n",
       " '3의 배수',\n",
       " 7,\n",
       " 8,\n",
       " '3의 배수',\n",
       " '5의 배수',\n",
       " 11,\n",
       " '3의 배수',\n",
       " 13,\n",
       " 14,\n",
       " '3의 배수5의 배수',\n",
       " 16,\n",
       " 17,\n",
       " '3의 배수',\n",
       " 19,\n",
       " '5의 배수']"
      ]
     },
     "execution_count": 6,
     "metadata": {},
     "output_type": "execute_result"
    }
   ],
   "source": [
    "# 문자열 연산자 +, *(반복)\n",
    "# 앞이 참이면 뒤의 것은 계산하지 않음\n",
    "# True==1, False==0\n",
    "\n",
    "[\"3의 배수\" * (i%3==0) + \"5의 배수\"* (i%5==0) or i for i in range(1,21)]"
   ]
  },
  {
   "cell_type": "code",
   "execution_count": 1,
   "metadata": {},
   "outputs": [
    {
     "name": "stdout",
     "output_type": "stream",
     "text": [
      "점수입력: "
     ]
    },
    {
     "name": "stdin",
     "output_type": "stream",
     "text": [
      " 80\n"
     ]
    },
    {
     "name": "stdout",
     "output_type": "stream",
     "text": [
      "B\n"
     ]
    }
   ],
   "source": [
    "# 점수를 입력받아 A,B,C,D,F학점으로 출력하시오( 점수를 학점으로 mapping )\n",
    "while True: # 무한루프\n",
    "    print('점수입력:', end=' ')\n",
    "    jumsu = int(input())\n",
    "    if jumsu ==0 :#무한루프인 경우 종료저선 지정\n",
    "        break #반복문 종료명령\n",
    "    elif jumsu>= 90: print('A')\n",
    "    elif jumsu>= 80: print('B')\n",
    "    elif jumsu>= 70: print('C')\n",
    "    elif jumsu>= 60: print('D')\n",
    "    else: print('F')\n",
    "    break"
   ]
  },
  {
   "cell_type": "code",
   "execution_count": 2,
   "metadata": {},
   "outputs": [],
   "source": [
    "# 번호 국어 영어 수학 점수를 입력하는 프로그램 작성(3명분)\n",
    "# 2차원 리스트"
   ]
  },
  {
   "cell_type": "code",
   "execution_count": 7,
   "metadata": {},
   "outputs": [
    {
     "name": "stdin",
     "output_type": "stream",
     "text": [
      "번호를 입력하시오:  1\n",
      "이름을 입력하시오:  1\n",
      "국어 점수 입력:  1\n",
      "영어 점수 입력:  1\n",
      "수학 점수 입력:  1\n",
      "번호를 입력하시오:  1\n",
      "이름을 입력하시오:  1\n",
      "국어 점수 입력:  1\n",
      "영어 점수 입력:  1\n",
      "수학 점수 입력:  1\n",
      "번호를 입력하시오:  1\n",
      "이름을 입력하시오:  1\n",
      "국어 점수 입력:  1\n",
      "영어 점수 입력:  1\n",
      "수학 점수 입력:  1\n"
     ]
    },
    {
     "name": "stdout",
     "output_type": "stream",
     "text": [
      "[['1', '1', 1, 1, 1], ['1', '1', 1, 1, 1], ['1', '1', 1, 1, 1]]\n"
     ]
    }
   ],
   "source": [
    "#2차원리스트\n",
    "final = []\n",
    "\n",
    "for i in range(3):\n",
    "    sungjuk=[]  #주소장\n",
    "    num = input(\"번호를 입력하시오: \")\n",
    "    name = input(\"이름을 입력하시오: \")\n",
    "    kor = int(input(\"국어 점수 입력: \"))\n",
    "    eng = int(input(\"영어 점수 입력: \"))\n",
    "    math = int(input(\"수학 점수 입력: \"))\n",
    "    sungjuk.append(num)\n",
    "    sungjuk.append(name)\n",
    "    sungjuk.append(kor)\n",
    "    sungjuk.append(eng)\n",
    "    sungjuk.append(math)\n",
    "    final.append(sungjuk)\n",
    "print(final)"
   ]
  },
  {
   "cell_type": "code",
   "execution_count": 3,
   "metadata": {},
   "outputs": [],
   "source": [
    "#합계와 평균을 구해서 추가시켜 보시오, \n",
    "#평균은 소수점 3째자리에서 반올림하고 2째자리까지 표현하시오"
   ]
  },
  {
   "cell_type": "code",
   "execution_count": 14,
   "metadata": {},
   "outputs": [
    {
     "name": "stdin",
     "output_type": "stream",
     "text": [
      "번호를 입력하시오:  1\n",
      "이름을 입력하시오:  강승웅\n",
      "국어 점수 입력:  1\n",
      "영어 점수 입력:  1\n",
      "수학 점수 입력:  1\n",
      "번호를 입력하시오:  2\n",
      "이름을 입력하시오:  현동엽\n",
      "국어 점수 입력:  2\n",
      "영어 점수 입력:  2\n",
      "수학 점수 입력:  2\n",
      "번호를 입력하시오:  3\n",
      "이름을 입력하시오:  차진욱\n",
      "국어 점수 입력:  3\n",
      "영어 점수 입력:  3\n",
      "수학 점수 입력:  3\n"
     ]
    },
    {
     "name": "stdout",
     "output_type": "stream",
     "text": [
      "[['1', '강승웅', 1, 1, 1, 3, 1.0], ['2', '현동엽', 2, 2, 2, 6, 2.0], ['3', '차진욱', 3, 3, 3, 9, 3.0]]\n"
     ]
    }
   ],
   "source": [
    "#2차원리스트\n",
    "final = []\n",
    "\n",
    "for i in range(3):\n",
    "    sungjuk=[]  #주소장\n",
    "    num = input(\"번호를 입력하시오: \")\n",
    "    name = input(\"이름을 입력하시오: \")\n",
    "    kor = int(input(\"국어 점수 입력: \"))\n",
    "    eng = int(input(\"영어 점수 입력: \"))\n",
    "    math = int(input(\"수학 점수 입력: \"))\n",
    "    sungjuk.append(num)\n",
    "    sungjuk.append(name)\n",
    "    sungjuk.append(kor)\n",
    "    sungjuk.append(eng)\n",
    "    sungjuk.append(math)\n",
    "    \n",
    "    tot = kor+eng+math\n",
    "    avg=round(tot/3, 2)\n",
    "    \n",
    "    # 순서가 있는 자료구조\n",
    "    sungjuk.append(tot)\n",
    "    sungjuk.append(avg)\n",
    "    if avg>= 90: \n",
    "        grade= \"A\"\n",
    "    elif avg>= 80: \n",
    "        grade= \"B\"\n",
    "    elif avg>= 70: \n",
    "        grade= \"C\"\n",
    "    elif avg>= 60: \n",
    "        grade= \"D\"\n",
    "    else:  \n",
    "        grade= \"F\"\n",
    "    \n",
    "    \n",
    "    final.append(sungjuk)\n",
    "print(final)"
   ]
  },
  {
   "cell_type": "code",
   "execution_count": 14,
   "metadata": {},
   "outputs": [],
   "source": [
    "# 정렬하고 싶은 경우\n",
    "#기본데이터타입 : str, int, float, list, dict, set, tuple\n",
    "# 파이썬은 모든 것이 객체(변수+함수): 사용자 정의 데이터 타입\n",
    "final.sort()\n"
   ]
  },
  {
   "cell_type": "code",
   "execution_count": 15,
   "metadata": {},
   "outputs": [],
   "source": [
    "# 함수를 키로 한다.(이름으로 정렬): 1인분 데이터 전달 (번호, 이름, 국어, 영어, 수학)\n",
    "def getKey(row):\n",
    "    return row[1]\n",
    "final.sort(key = getKey, reverse = True) #내림차순"
   ]
  },
  {
   "cell_type": "code",
   "execution_count": 18,
   "metadata": {},
   "outputs": [],
   "source": [
    "# lambda함수 : 무명함수, 간단한 함수를 작성할 때 사용\n",
    "final.sort(key = lambda row: row[1], reverse = True)"
   ]
  },
  {
   "cell_type": "code",
   "execution_count": null,
   "metadata": {},
   "outputs": [],
   "source": [
    "# 등수를 입력하는 필드를 추가하시오."
   ]
  },
  {
   "cell_type": "code",
   "execution_count": null,
   "metadata": {},
   "outputs": [],
   "source": [
    "final.sort(key = lambda row: row[6], reverse = True) #총점중심 내림차순\n",
    "print(final)"
   ]
  },
  {
   "cell_type": "code",
   "execution_count": 15,
   "metadata": {},
   "outputs": [
    {
     "data": {
      "text/plain": [
       "[['1', '강승웅', 1, 1, 1, 3, 1.0],\n",
       " ['2', '현동엽', 2, 2, 2, 6, 2.0],\n",
       " ['3', '차진욱', 3, 3, 3, 9, 3.0]]"
      ]
     },
     "execution_count": 15,
     "metadata": {},
     "output_type": "execute_result"
    }
   ],
   "source": [
    "final"
   ]
  },
  {
   "cell_type": "code",
   "execution_count": 16,
   "metadata": {},
   "outputs": [
    {
     "name": "stdout",
     "output_type": "stream",
     "text": [
      "번호이름국어수학영어합계평균순위\n",
      "1 강승웅 1 1 1 3 1.0 1 \n",
      "2 현동엽 2 2 2 6 2.0 2 \n",
      "3 차진욱 3 3 3 9 3.0 3 "
     ]
    }
   ],
   "source": [
    "rank= 0\n",
    "for i in range(len(final)):\n",
    "    rank=rank+1\n",
    "    final[i].append(rank)\n",
    "final.sort(key = lambda row: row[0])\n",
    "tot_list = [\"번호\", \"이름\", \"국어\", \"수학\", \"영어\", \"합계\", \"평균\", \"순위\"]\n",
    "for j in range(len(final[0])):\n",
    "    print(tot_list[j], end=\"\")\n",
    "for i in range(len(final)):\n",
    "    print(end = \"\\n\")\n",
    "    for j in range(8):\n",
    "        print(final[i][j], end=\" \")\n"
   ]
  },
  {
   "cell_type": "code",
   "execution_count": null,
   "metadata": {},
   "outputs": [],
   "source": [
    "# 문제 number guess(숫자 맞추기 게임 1:1)\n",
    "1) 컴튜터는 숫자를 랜덤으로 발생시킵니다.(1~100)\n",
    "2) 사용자는 숫자를 입력합니다.\n",
    "3) 컴퓨터가 낸 숫자와 사용자가 입력한 숫자가 일치하는지 확인하고 일치하면 확인하고 다시 다음 게임으로 진행합니다.\n",
    "4) 만약 맞추지 못하였으면 사용자가 입력한 숫자가 컴퓨터가 가지고 있는 수 보다 큰지 작은지를 알려줍니다.\n",
    "5) 무한루프로 진행하던 게임은 q가 눌리면 종료합니다.\n",
    "6) 몇회만에 맞추었는지를 확인하여 출력해줍니다.\n",
    "7) 총 진행회수하고 guess횟수를 누적시킨다음 평균 시도 횟수를 출력하시오"
   ]
  },
  {
   "cell_type": "code",
   "execution_count": null,
   "metadata": {},
   "outputs": [],
   "source": [
    "# 필요한 변수 : 컴퓨터 선정수, 사용자 입력, 총횟수, 평균시도횟수\n",
    "# 경우의 수는 3가지 (정답, 작은 경우, 큰 경우)\n",
    "# 전체 게임 횟수\n",
    "#평균 시도횟수를 계산하기위해\n",
    "from random import randint\n",
    "import sys\n",
    "tot_game=0\n",
    "win=0\n",
    "tot_attempt=[] #전체 시도 횟수\n",
    "\n",
    "while True:  #사용자 정의하고 이미 정의된 내장 명령어를 구분\n",
    "    n=randint(1, 101)  #컴퓨터는 수하나 선택\n",
    "    tot_game +=1; game=0\n",
    "    game=0\n",
    "    while True:\n",
    "        ans = input (\"상상의 수를 입력(Q to exit): \")\n",
    "        game+=1;\n",
    "        if ans.upper() == \"Q\":\n",
    "            print(\"총게임수\", tot_game-1, \"이긴게임수\", win)\n",
    "            game_tot =sum(tot_game)\n",
    "            sys.exsit(0)   #프로그램을 종료\n",
    "        ians=int(ans)\n",
    "        if(n==ians):\n",
    "            print(\"정답!\"); win+=1; tot_attempt.append(game)\n",
    "            break\n",
    "        elif(n>ians):\n",
    "            print(\"높은 수를 선택하시오\")\n",
    "        else:\n",
    "            print(\"작은 수를 선택하시오\")"
   ]
  },
  {
   "cell_type": "code",
   "execution_count": null,
   "metadata": {},
   "outputs": [],
   "source": [
    "# 문제1 제곱미터로 입력되는 아파트 면적을 평형으로 계산하여 종류 판정\n",
    "#(30평을 기준으로 판정)하는 프로그램 작성\n",
    "# 소형(17)1 중소형(25) 중형(30)\n",
    "# 평형수 = 제곱미터 / 3.305"
   ]
  },
  {
   "cell_type": "code",
   "execution_count": 10,
   "metadata": {},
   "outputs": [
    {
     "name": "stdin",
     "output_type": "stream",
     "text": [
      "아파트 면적(제곱미터)을 입력하세요 11\n"
     ]
    },
    {
     "name": "stdout",
     "output_type": "stream",
     "text": [
      "소형입니다. 3.328290468986384\n"
     ]
    }
   ],
   "source": [
    "ap = int(input(\"아파트 면적(제곱미터)을 입력하세요\"))\n",
    "p=ap/3.305\n",
    "if p>=30:\n",
    "    print(\"중형입니다.\",p)\n",
    "elif p>= 25: \n",
    "    print(\"중소형입니다.\",p)\n",
    "else:  \n",
    "    print(\"소형입니다.\",p)"
   ]
  },
  {
   "cell_type": "code",
   "execution_count": null,
   "metadata": {},
   "outputs": [],
   "source": [
    "# 문제2 날 수를 입력하면 이를 초로 변경하는 프로그램"
   ]
  },
  {
   "cell_type": "code",
   "execution_count": 6,
   "metadata": {},
   "outputs": [
    {
     "name": "stdin",
     "output_type": "stream",
     "text": [
      "날의 수를 입력해주세요. 2\n"
     ]
    },
    {
     "name": "stdout",
     "output_type": "stream",
     "text": [
      "172800\n"
     ]
    }
   ],
   "source": [
    "day=int(input(\"날의 수를 입력해주세요.\"))\n",
    "second=day*24*60*60\n",
    "print(second,\"초\")"
   ]
  },
  {
   "cell_type": "code",
   "execution_count": null,
   "metadata": {},
   "outputs": [],
   "source": [
    "# 소득세 계산 : 소득 세율표를 구해보고 이를 이용하여 소득이 들어오면 세금이 얼마인지 계산해 보시오(연봉, 단순히 세율만 적용합니다.)\n",
    "# 1천만원 미만시 연봉 9.5% / 1천~4천 :19% /4천~8천 : 28% / 8천이상 : 37%"
   ]
  },
  {
   "cell_type": "code",
   "execution_count": 9,
   "metadata": {},
   "outputs": [
    {
     "name": "stdin",
     "output_type": "stream",
     "text": [
      "연봉(만원)을 입력해주세요 5000\n"
     ]
    },
    {
     "name": "stdout",
     "output_type": "stream",
     "text": [
      "당신의 소득세는 1850.0\n"
     ]
    }
   ],
   "source": [
    "income=int(input(\"연봉(만원)을 입력해주세요\"))\n",
    "if income <=1000:\n",
    "    print(\"당신의 소득세는\", income*0.095)\n",
    "elif income <=1400:\n",
    "    print(\"당신의 소득세는\", income*0.19)\n",
    "else:\n",
    "    print(\"당신의 소득세는\", income*0.37)\n",
    "    "
   ]
  },
  {
   "cell_type": "code",
   "execution_count": 2,
   "metadata": {},
   "outputs": [
    {
     "name": "stdin",
     "output_type": "stream",
     "text": [
      "연봉(만원)을 입력하시오: 4000\n"
     ]
    },
    {
     "name": "stdout",
     "output_type": "stream",
     "text": [
      "당신의 소득세는 665.0 만원 소득세입니다.\n"
     ]
    }
   ],
   "source": [
    "income= int(input(\"연봉(만원)을 입력하시오:\"))\n",
    "tax=0.0\n",
    "if income <=1000:\n",
    "    print(\"당신의 소득세는\", income*0.095,\"만원 소득세입니다.\")\n",
    "elif income <=4000:\n",
    "    print(\"당신의 소득세는\", 1000*0.095 + (income-1000)*0.19,\"만원 소득세입니다.\")\n",
    "elif income <=8000:\n",
    "    print(\"당신의 소득세는\", 1000*0.095 + 3000*0.19 + (income-4000)*0.28,\"만원 소득세입니다.\")\n",
    "else:\n",
    "    print(\"당신의 소득세는\", 1000*0.095 + 3000*0.19 + 4000*0.28 + (income-8000)*0.37,\"만원 소득세입니다.\")\n",
    "    "
   ]
  },
  {
   "cell_type": "code",
   "execution_count": null,
   "metadata": {},
   "outputs": [],
   "source": [
    "# 놀이공원 매표소 단체 입장료 계산하기\n",
    "# 조건 : 팀별 인원 구성을 입력(초등, 청소년, 일반인, 경로대상)하면 입장료 소견표에\n",
    "# 정산요금 : 초등(5000원), 청소년(10000원), 일반인(15000원), 경로대상(3000원)\n",
    "# 팀별 할인 카드 확인\n",
    "# 카드없음 : 할인 무, 일반카드 : 10%, VIP : 20%"
   ]
  },
  {
   "cell_type": "code",
   "execution_count": 11,
   "metadata": {},
   "outputs": [
    {
     "name": "stdin",
     "output_type": "stream",
     "text": [
      "초등생은 몇명입니까? 1\n",
      "청소년은 몇명입니까? 1\n",
      "어른은 몇명입니까? 1\n",
      "경로대상은 몇명입니까? 1\n",
      "카드 없음(0), 일반카드(1), VIP(2)를 선택해주세요 0\n"
     ]
    },
    {
     "name": "stdout",
     "output_type": "stream",
     "text": [
      "총요금은 30300 원 입니다.\n"
     ]
    }
   ],
   "source": [
    "ele = int(input(\"초등생은 몇명입니까?\"))\n",
    "mid = int(input(\"청소년은 몇명입니까?\"))\n",
    "adult = int(input(\"어른은 몇명입니까?\"))\n",
    "old = int(input(\"경로대상은 몇명입니까?\"))\n",
    "\n",
    "ele_tot = 5000*ele\n",
    "mid_tot = 10000*mid\n",
    "adult_tot = 15000*adult\n",
    "old_tot = 300*old\n",
    "tot= ele_tot + mid_tot + adult_tot + old_tot\n",
    "\n",
    "dis = int(input(\"카드 없음(0), 일반카드(1), VIP(2)를 선택해주세요\"))\n",
    "select=[tot, tot*0.9, tot*0.8]\n",
    "print(\"총요금은\", select[dis], \"원 입니다.\")"
   ]
  },
  {
   "cell_type": "code",
   "execution_count": 14,
   "metadata": {},
   "outputs": [
    {
     "name": "stdin",
     "output_type": "stream",
     "text": [
      "숫자를 입력하시오: 10\n"
     ]
    },
    {
     "name": "stdout",
     "output_type": "stream",
     "text": [
      "*\n",
      "**\n",
      "***\n",
      "****\n",
      "*****\n",
      "******\n",
      "*******\n",
      "********\n",
      "*********\n",
      "**********\n"
     ]
    }
   ],
   "source": [
    "#반세모 그리기(오른쪽)\n",
    "numberOfRows = int(input(\"숫자를 입력하시오:\"))\n",
    "for i in range(numberOfRows):\n",
    "    for j in range(i+1):\n",
    "        print('*', end=\"\")\n",
    "    print()"
   ]
  },
  {
   "cell_type": "code",
   "execution_count": 19,
   "metadata": {},
   "outputs": [
    {
     "name": "stdin",
     "output_type": "stream",
     "text": [
      "숫자를 입력하시오: 11\n"
     ]
    },
    {
     "name": "stdout",
     "output_type": "stream",
     "text": [
      "           *\n",
      "          **\n",
      "         ***\n",
      "        ****\n",
      "       *****\n",
      "      ******\n",
      "     *******\n",
      "    ********\n",
      "   *********\n",
      "  **********\n",
      " ***********\n"
     ]
    }
   ],
   "source": [
    "#반세모 그리기(왼쪽)\n",
    "numberOfRows = int(input(\"숫자를 입력하시오:\"))\n",
    "for i in range(numberOfRows):\n",
    "    for k in range(numberOfRows-i):\n",
    "        print(\" \", end=\"\")\n",
    "    for j in range(i+1):\n",
    "        print('*', end=\"\")\n",
    "    print()"
   ]
  },
  {
   "cell_type": "code",
   "execution_count": 34,
   "metadata": {},
   "outputs": [
    {
     "name": "stdin",
     "output_type": "stream",
     "text": [
      "숫자를 입력하시오: 10\n"
     ]
    },
    {
     "name": "stdout",
     "output_type": "stream",
     "text": [
      "          *\n",
      "         ***\n",
      "        *****\n",
      "       *******\n",
      "      *********\n",
      "     ***********\n",
      "    *************\n",
      "   ***************\n",
      "  *****************\n",
      " *******************\n"
     ]
    }
   ],
   "source": [
    "#트리모양 만들기(이중 for문)\n",
    "numberOfRows = int(input(\"숫자를 입력하시오:\"))\n",
    "for i in range(numberOfRows):\n",
    "    for k in range(numberOfRows-i):\n",
    "        print(\" \", end=\"\")\n",
    "    for j in range(i+1):\n",
    "        print('*', end=\"\")\n",
    "    for j in range(i):\n",
    "        print('*', end=\"\")\n",
    "    print()"
   ]
  },
  {
   "cell_type": "code",
   "execution_count": 35,
   "metadata": {},
   "outputs": [
    {
     "name": "stdout",
     "output_type": "stream",
     "text": [
      "\n",
      "          *\n",
      "         ***\n",
      "        *****\n",
      "       *******\n",
      "      *********\n",
      "     ***********\n",
      "    *************\n",
      "   ***************\n",
      "  *****************\n",
      " *******************\n"
     ]
    }
   ],
   "source": [
    "#트리모양 만들기(문자지정방식)\n",
    "print(\"\")\n",
    "for i in  range(1,11):\n",
    "    print(\" \"*(10-i), \"*\"*(i*2-1))"
   ]
  },
  {
   "cell_type": "code",
   "execution_count": 40,
   "metadata": {},
   "outputs": [
    {
     "name": "stdin",
     "output_type": "stream",
     "text": [
      "숫자를 입력하시오: 11\n"
     ]
    },
    {
     "name": "stdout",
     "output_type": "stream",
     "text": [
      "*\n",
      "**\n",
      "***\n",
      "****\n",
      "*****\n",
      "******\n",
      "***** \n",
      "****  \n",
      "***   \n",
      "**    \n",
      "*     \n"
     ]
    }
   ],
   "source": [
    "#오른쪽 세모 그리기 1번 방법(for문으로)\n",
    "numberOfRows = round(int(input(\"숫자를 입력하시오:\"))/2)\n",
    "numberOfRows2=numberOfRows-1\n",
    "for i in range(numberOfRows):\n",
    "    for j in range(i+1):\n",
    "        print('*', end=\"\")\n",
    "    print()\n",
    "for i in range(numberOfRows2):\n",
    "    for k in range(numberOfRows2-i):\n",
    "        print(\"*\", end=\"\")\n",
    "    for j in range(i+1):\n",
    "        print(' ', end=\"\")\n",
    "    print()"
   ]
  },
  {
   "cell_type": "code",
   "execution_count": 4,
   "metadata": {},
   "outputs": [
    {
     "name": "stdin",
     "output_type": "stream",
     "text": [
      "숫자를 입력하시오: 10\n"
     ]
    },
    {
     "name": "stdout",
     "output_type": "stream",
     "text": [
      "*\n",
      "**\n",
      "***\n",
      "****\n",
      "*****\n",
      "*****\n",
      "****\n",
      "***\n",
      "**\n",
      "*\n"
     ]
    }
   ],
   "source": [
    "#오른쪽 세모 그리기 2번 방법(if사용)\n",
    "numberOfRows = int(input(\"숫자를 입력하시오:\"))\n",
    "for i in range(numberOfRows):\n",
    "    if i<numberOfRows / 2:\n",
    "        for j in range(i+1):\n",
    "            print(\"*\", end=\"\")\n",
    "    else :\n",
    "        for j in range(numberOfRows//2-1, -1,-1):\n",
    "            if(j>=i-numberOfRows//2):\n",
    "                print(\"*\", end=\"\")\n",
    "    print()"
   ]
  },
  {
   "cell_type": "code",
   "execution_count": 5,
   "metadata": {},
   "outputs": [
    {
     "name": "stdout",
     "output_type": "stream",
     "text": [
      "\n",
      "*\n",
      "**\n",
      "***\n",
      "****\n",
      "*****\n",
      "****\n",
      "***\n",
      "**\n",
      "*\n"
     ]
    }
   ],
   "source": [
    "#오른쪽 세모 그리기 2번 방법(지정방식)\n",
    "print(\"\")\n",
    "for i in range(1, 10):\n",
    "    print(\"*\"*(i-int(i/6)*(i*2-10)))"
   ]
  },
  {
   "cell_type": "code",
   "execution_count": null,
   "metadata": {},
   "outputs": [],
   "source": []
  },
  {
   "cell_type": "code",
   "execution_count": null,
   "metadata": {},
   "outputs": [],
   "source": []
  },
  {
   "cell_type": "code",
   "execution_count": null,
   "metadata": {},
   "outputs": [],
   "source": []
  }
 ],
 "metadata": {
  "kernelspec": {
   "display_name": "Python 3",
   "language": "python",
   "name": "python3"
  },
  "language_info": {
   "codemirror_mode": {
    "name": "ipython",
    "version": 3
   },
   "file_extension": ".py",
   "mimetype": "text/x-python",
   "name": "python",
   "nbconvert_exporter": "python",
   "pygments_lexer": "ipython3",
   "version": "3.7.4"
  }
 },
 "nbformat": 4,
 "nbformat_minor": 4
}
