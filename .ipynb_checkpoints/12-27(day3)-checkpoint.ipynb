{
 "cells": [
  {
   "cell_type": "code",
   "execution_count": 14,
   "metadata": {},
   "outputs": [
    {
     "data": {
      "text/plain": [
       "'함수 (function)\\n-함수이름은 중복이 되면 안됨(오버로딩은 default매개변수로 해결)\\n-Required auguments(매개변수를 순서적으로 입력)\\n-keyword auguments(키 매개변수의 순서 변경이 가능)\\n-Default auguments(오버로딩 해결)\\n-Variable-length auguments(변동매개변수 :*리스트 **딕셔너리)'"
      ]
     },
     "execution_count": 14,
     "metadata": {},
     "output_type": "execute_result"
    }
   ],
   "source": [
    "\"\"\"함수 (function)\n",
    "-함수이름은 중복이 되면 안됨(오버로딩은 default매개변수로 해결)\n",
    "-Required auguments(매개변수를 순서적으로 입력)\n",
    "-keyword auguments(키 매개변수의 순서 변경이 가능)\n",
    "-Default auguments(오버로딩 해결)\n",
    "-Variable-length auguments(변동매개변수 :*리스트 **딕셔너리)\"\"\""
   ]
  },
  {
   "cell_type": "code",
   "execution_count": 3,
   "metadata": {},
   "outputs": [
    {
     "name": "stdout",
     "output_type": "stream",
     "text": [
      "30\n",
      "70\n",
      "30\n",
      "70\n"
     ]
    }
   ],
   "source": [
    "a=10\n",
    "b=20\n",
    "result=a+b\n",
    "print(result)\n",
    "\n",
    "c=30\n",
    "d=40\n",
    "result=c+d\n",
    "print(result)\n",
    "#사용자 정의 함수\n",
    "def addvalue(ab,bd):#ab=10, bd=20 주소값만 전달 call by reference\n",
    "    return ab+bd\n",
    "print(addvalue(10,20))#호출시 데이터는 힙에 저장=> 주소값만 전달\n",
    "print(addvalue(30,40))"
   ]
  },
  {
   "cell_type": "code",
   "execution_count": null,
   "metadata": {},
   "outputs": [],
   "source": [
    "#회귀분석\n",
    " y = ax+b# 기울기 계수, b:bias 절편"
   ]
  },
  {
   "cell_type": "code",
   "execution_count": 4,
   "metadata": {},
   "outputs": [
    {
     "name": "stdout",
     "output_type": "stream",
     "text": [
      "1030\n"
     ]
    }
   ],
   "source": [
    "def reg(a,b,x):\n",
    "    return a*x+b\n",
    "reg(10,30,100)\n",
    "\n",
    "def reg(x):\n",
    "    a=10\n",
    "    b=30\n",
    "    return a*x+b\n",
    "print(reg(100))\n",
    "#reg(10,30,100)"
   ]
  },
  {
   "cell_type": "code",
   "execution_count": 5,
   "metadata": {},
   "outputs": [],
   "source": [
    "#두수를 더한 값이 10보다 큰 지 확인하시오\n",
    "a=10\n",
    "b=20\n",
    "result=a+b\n",
    "if result >10:\n",
    "    result = \"10보다 크다\"\n",
    "else:\n",
    "    result = \"10보다 작다\""
   ]
  },
  {
   "cell_type": "code",
   "execution_count": 8,
   "metadata": {},
   "outputs": [
    {
     "data": {
      "text/plain": [
       "'10보다 크다'"
      ]
     },
     "execution_count": 8,
     "metadata": {},
     "output_type": "execute_result"
    }
   ],
   "source": [
    "def sum_1(a,b):\n",
    "    result=a+b\n",
    "    if result >10:\n",
    "        result = \"10보다 크다\"\n",
    "    else:\n",
    "        result = \"10보다 작다\"\n",
    "    return result\n",
    "sum_1(10,20)"
   ]
  },
  {
   "cell_type": "code",
   "execution_count": 9,
   "metadata": {},
   "outputs": [
    {
     "name": "stdout",
     "output_type": "stream",
     "text": [
      "20\n",
      "10\n"
     ]
    }
   ],
   "source": [
    "#함수를 이용해서 a와 b의 값을 바꾸시오.(나의 답)\n",
    "a = 10\n",
    "b = 20\n",
    "\n",
    "a,b=b,a\n",
    "print(a)\n",
    "print(b)"
   ]
  },
  {
   "cell_type": "code",
   "execution_count": 10,
   "metadata": {},
   "outputs": [
    {
     "name": "stdout",
     "output_type": "stream",
     "text": [
      "(10, 20)\n"
     ]
    },
    {
     "data": {
      "text/plain": [
       "tuple"
      ]
     },
     "execution_count": 10,
     "metadata": {},
     "output_type": "execute_result"
    }
   ],
   "source": [
    "#함수를 이용해서 a와 b의 값을 바꾸시오.(선생님 답)\n",
    "a = 10\n",
    "b = 20\n",
    "def swap(x,y):\n",
    "    return y,x\n",
    "a,b = swap(a,b)\n",
    "x= swap(a,b) #함수가 리턴하는 값은 튜플\n",
    "print(x)\n",
    "type(x)"
   ]
  },
  {
   "cell_type": "code",
   "execution_count": 13,
   "metadata": {},
   "outputs": [
    {
     "name": "stdout",
     "output_type": "stream",
     "text": [
      "결과 :  30\n",
      "결과 :  -10\n",
      "결과 :  200\n"
     ]
    }
   ],
   "source": [
    "#두 수를 입력 받아 +,-,*하는 함수 3개를 작성하시오\n",
    "#add, subtract, multiply\n",
    "\n",
    "def add(a,b):\n",
    "    return a+b\n",
    "def subtract(a,b):\n",
    "    return a-b\n",
    "def multiply(a,b):\n",
    "    return a*b\n",
    "#함수는 일급함수 : 함수가 매개변수로 전달가능, 리턴값으로 가능\n",
    "def changefun(g,a,b):\n",
    "    return g(a,b)\n",
    "print('결과 : ', changefun(add, 10,20))   #sort(key함수 전달)\n",
    "print('결과 : ', changefun(subtract, 10,20))\n",
    "print('결과 : ', changefun(multiply, 10,20))"
   ]
  },
  {
   "cell_type": "code",
   "execution_count": 25,
   "metadata": {},
   "outputs": [
    {
     "name": "stdout",
     "output_type": "stream",
     "text": [
      "함수 내부에서 출력 :  [10, 20, 30, [1, 2, 3, 4]]\n",
      "함수 외부에서 출력:  [10, 20, 30, [1, 2, 3, 4]]\n"
     ]
    }
   ],
   "source": [
    "def changeme(mylist):              #mylist =mylist주소\n",
    "    mylist.append([1,2,3,4]);\n",
    "    print(\"함수 내부에서 출력 : \", mylist)\n",
    "    return\n",
    "mylist = [10,20,30];   #heap에 저장, 이유 : 주소값이 넘어갔기 때문 call by reference\n",
    "changeme(mylist);\n",
    "print(\"함수 외부에서 출력: \", mylist)"
   ]
  },
  {
   "cell_type": "code",
   "execution_count": 19,
   "metadata": {},
   "outputs": [
    {
     "name": "stdout",
     "output_type": "stream",
     "text": [
      "함수 내부에서 출력 :  [1, 2, 3, 4]\n",
      "함수 외부에서 출력:  [10, 20, 30]\n"
     ]
    }
   ],
   "source": [
    "def changeme(mylist):              #mylist =mylist주소\n",
    "    mylist=([1,2,3,4]);            #대입이 벌어지면 call by value\n",
    "    print(\"함수 내부에서 출력 : \", mylist)\n",
    "    return\n",
    "mylist = [10,20,30];   #heap에 저장, 이유 : 주소값이 넘어갔기 때문 call by reference\n",
    "changeme(mylist);\n",
    "print(\"함수 외부에서 출력: \", mylist)"
   ]
  },
  {
   "cell_type": "code",
   "execution_count": 27,
   "metadata": {},
   "outputs": [
    {
     "ename": "AttributeError",
     "evalue": "'set' object has no attribute 'append'",
     "output_type": "error",
     "traceback": [
      "\u001b[1;31m---------------------------------------------------------------------------\u001b[0m",
      "\u001b[1;31mAttributeError\u001b[0m                            Traceback (most recent call last)",
      "\u001b[1;32m<ipython-input-27-8e65662f7509>\u001b[0m in \u001b[0;36m<module>\u001b[1;34m\u001b[0m\n\u001b[0;32m      7\u001b[0m \u001b[1;33m\u001b[0m\u001b[0m\n\u001b[0;32m      8\u001b[0m \u001b[0mmylist\u001b[0m \u001b[1;33m=\u001b[0m \u001b[1;33m{\u001b[0m\u001b[1;36m10\u001b[0m\u001b[1;33m,\u001b[0m\u001b[1;36m20\u001b[0m\u001b[1;33m,\u001b[0m\u001b[1;36m30\u001b[0m\u001b[1;33m}\u001b[0m\u001b[1;33m;\u001b[0m\u001b[1;33m\u001b[0m\u001b[1;33m\u001b[0m\u001b[0m\n\u001b[1;32m----> 9\u001b[1;33m \u001b[0mchangeme\u001b[0m\u001b[1;33m(\u001b[0m\u001b[0mmylist\u001b[0m\u001b[1;33m)\u001b[0m\u001b[1;33m;\u001b[0m\u001b[1;33m\u001b[0m\u001b[1;33m\u001b[0m\u001b[0m\n\u001b[0m\u001b[0;32m     10\u001b[0m \u001b[0mprint\u001b[0m\u001b[1;33m(\u001b[0m\u001b[1;34m\"함수 외부에서 출력: \"\u001b[0m\u001b[1;33m,\u001b[0m \u001b[0mmylist\u001b[0m\u001b[1;33m)\u001b[0m\u001b[1;33m\u001b[0m\u001b[1;33m\u001b[0m\u001b[0m\n",
      "\u001b[1;32m<ipython-input-27-8e65662f7509>\u001b[0m in \u001b[0;36mchangeme\u001b[1;34m(mylist)\u001b[0m\n\u001b[0;32m      1\u001b[0m \u001b[1;31m#실행이 안되는 이유 : 데이터 타입을 구분해야 하는 것은 프로그래머의 책임\u001b[0m\u001b[1;33m\u001b[0m\u001b[1;33m\u001b[0m\u001b[1;33m\u001b[0m\u001b[0m\n\u001b[0;32m      2\u001b[0m \u001b[1;32mdef\u001b[0m \u001b[0mchangeme\u001b[0m\u001b[1;33m(\u001b[0m\u001b[0mmylist\u001b[0m\u001b[1;33m)\u001b[0m\u001b[1;33m:\u001b[0m              \u001b[1;31m#mylist =mylist주소\u001b[0m\u001b[1;33m\u001b[0m\u001b[1;33m\u001b[0m\u001b[0m\n\u001b[1;32m----> 3\u001b[1;33m     \u001b[0mmylist\u001b[0m\u001b[1;33m.\u001b[0m\u001b[0mappend\u001b[0m\u001b[1;33m(\u001b[0m\u001b[1;33m[\u001b[0m\u001b[1;36m1\u001b[0m\u001b[1;33m,\u001b[0m\u001b[1;36m2\u001b[0m\u001b[1;33m,\u001b[0m\u001b[1;36m3\u001b[0m\u001b[1;33m,\u001b[0m\u001b[1;36m4\u001b[0m\u001b[1;33m]\u001b[0m\u001b[1;33m)\u001b[0m\u001b[1;33m;\u001b[0m\u001b[1;33m\u001b[0m\u001b[1;33m\u001b[0m\u001b[0m\n\u001b[0m\u001b[0;32m      4\u001b[0m     \u001b[1;32mreturn\u001b[0m\u001b[1;33m\u001b[0m\u001b[1;33m\u001b[0m\u001b[0m\n\u001b[0;32m      5\u001b[0m \u001b[0mmylist\u001b[0m \u001b[1;33m=\u001b[0m \u001b[1;33m[\u001b[0m\u001b[1;36m10\u001b[0m\u001b[1;33m,\u001b[0m\u001b[1;36m20\u001b[0m\u001b[1;33m,\u001b[0m\u001b[1;36m30\u001b[0m\u001b[1;33m]\u001b[0m\u001b[1;33m;\u001b[0m   \u001b[1;31m#heap에 저장, 이유 : 주소값이 넘어갔기 때문 call by reference\u001b[0m\u001b[1;33m\u001b[0m\u001b[1;33m\u001b[0m\u001b[0m\n",
      "\u001b[1;31mAttributeError\u001b[0m: 'set' object has no attribute 'append'"
     ]
    }
   ],
   "source": [
    "#실행이 안되는 이유 : 데이터 타입을 구분해야 하는 것은 프로그래머의 책임(일부러 오류)\n",
    "\n",
    "def changeme(mylist):              #mylist =mylist주소\n",
    "    mylist.append([1,2,3,4]);\n",
    "    return\n",
    "mylist = [10,20,30];   #heap에 저장, 이유 : 주소값이 넘어갔기 때문 call by reference\n",
    "changeme(mylist);\n",
    "\n",
    "mylist = {10,20,30};\n",
    "changeme(mylist);\n",
    "print(\"함수 외부에서 출력: \", mylist)"
   ]
  },
  {
   "cell_type": "code",
   "execution_count": 28,
   "metadata": {},
   "outputs": [],
   "source": [
    "#문장종료 => ;\n",
    "#블럭의 시작 => :"
   ]
  },
  {
   "cell_type": "code",
   "execution_count": 29,
   "metadata": {},
   "outputs": [
    {
     "name": "stdout",
     "output_type": "stream",
     "text": [
      "시작\n",
      "1.2.3.\n",
      "1.2.3.4.5.\n"
     ]
    }
   ],
   "source": [
    "#변동 매개변수 : \n",
    "def func1(*args):   #list\n",
    "    for i in args:\n",
    "        print(i, end='.')\n",
    "    print()\n",
    "print('시작')\n",
    "func1(1,2,3)          #갯수가 3개 5개로 달라도 실행이 됨\n",
    "func1(1,2,3,4,5)"
   ]
  },
  {
   "cell_type": "code",
   "execution_count": 33,
   "metadata": {},
   "outputs": [
    {
     "name": "stdout",
     "output_type": "stream",
     "text": [
      "args is (1, 2)\n",
      "kwargs is {'z': 5.0}\n",
      "Hello Now i'm going to call <function g at 0x0000025D292C7CA8>\n",
      "1\n",
      "2\n",
      "5.0\n"
     ]
    },
    {
     "data": {
      "text/plain": [
       "0.6"
      ]
     },
     "execution_count": 33,
     "metadata": {},
     "output_type": "execute_result"
    }
   ],
   "source": [
    "def say__hello_then_call(f, *args, **kwargs):\n",
    "    print('args is', args)\n",
    "    print('kwargs is', kwargs)\n",
    "    print(\"Hello Now i'm going to call %s\" %f) #함수 위치한 주소\n",
    "    return f(*args, **kwargs)\n",
    "def g(x,y,z=1):    #디폴트 매개변수\n",
    "    print(x)\n",
    "    print(y)\n",
    "    print(z)\n",
    "    return(x+y)/z\n",
    "say__hello_then_call(g, 1, 2, z=5.)"
   ]
  },
  {
   "cell_type": "code",
   "execution_count": 34,
   "metadata": {},
   "outputs": [
    {
     "ename": "NameError",
     "evalue": "name 'func_tesr2' is not defined",
     "output_type": "error",
     "traceback": [
      "\u001b[1;31m---------------------------------------------------------------------------\u001b[0m",
      "\u001b[1;31mNameError\u001b[0m                                 Traceback (most recent call last)",
      "\u001b[1;32m<ipython-input-34-7ebd5b3dabbe>\u001b[0m in \u001b[0;36m<module>\u001b[1;34m\u001b[0m\n\u001b[0;32m      1\u001b[0m \u001b[1;32mdef\u001b[0m \u001b[0mfunc_test2\u001b[0m\u001b[1;33m(\u001b[0m\u001b[0ma\u001b[0m\u001b[1;33m,\u001b[0m \u001b[0mb\u001b[0m\u001b[1;33m=\u001b[0m\u001b[1;36m0\u001b[0m\u001b[1;33m)\u001b[0m\u001b[1;33m:\u001b[0m\u001b[1;33m\u001b[0m\u001b[1;33m\u001b[0m\u001b[0m\n\u001b[0;32m      2\u001b[0m     \u001b[0mprint\u001b[0m\u001b[1;33m(\u001b[0m\u001b[0ma\u001b[0m\u001b[1;33m,\u001b[0m\u001b[0mb\u001b[0m\u001b[1;33m)\u001b[0m\u001b[1;33m\u001b[0m\u001b[1;33m\u001b[0m\u001b[0m\n\u001b[1;32m----> 3\u001b[1;33m \u001b[0mfunc_tesr2\u001b[0m\u001b[1;33m(\u001b[0m\u001b[1;36m1\u001b[0m\u001b[1;33m)\u001b[0m        \u001b[1;31m#a=1,b=0\u001b[0m\u001b[1;33m\u001b[0m\u001b[1;33m\u001b[0m\u001b[0m\n\u001b[0m\u001b[0;32m      4\u001b[0m \u001b[0mfunc_tesr2\u001b[0m\u001b[1;33m(\u001b[0m\u001b[1;36m1\u001b[0m\u001b[1;33m,\u001b[0m\u001b[1;36m2\u001b[0m\u001b[1;33m)\u001b[0m      \u001b[1;31m#a=1, b=2\u001b[0m\u001b[1;33m\u001b[0m\u001b[1;33m\u001b[0m\u001b[0m\n\u001b[0;32m      5\u001b[0m \u001b[0mfunc_tesr2\u001b[0m\u001b[1;33m(\u001b[0m\u001b[0mb\u001b[0m\u001b[1;33m=\u001b[0m\u001b[1;36m2\u001b[0m\u001b[1;33m,\u001b[0m\u001b[0ma\u001b[0m\u001b[1;33m=\u001b[0m\u001b[1;36m1\u001b[0m\u001b[1;33m)\u001b[0m  \u001b[1;31m#키 매개변수\u001b[0m\u001b[1;33m\u001b[0m\u001b[1;33m\u001b[0m\u001b[0m\n",
      "\u001b[1;31mNameError\u001b[0m: name 'func_tesr2' is not defined"
     ]
    }
   ],
   "source": [
    "#에러가 나는 경우\n",
    "def func_test2(a, b=0):\n",
    "    print(a, b)\n",
    "func_tesr2(1)        #a=1,b=0\n",
    "func_tesr2(1,2)      #a=1, b=2\n",
    "func_tesr2(b=2,a=1)  #키 매개변수"
   ]
  },
  {
   "cell_type": "code",
   "execution_count": 35,
   "metadata": {},
   "outputs": [],
   "source": [
    "def func_test4():\n",
    "    pass  #몸통을 미지정"
   ]
  },
  {
   "cell_type": "code",
   "execution_count": 36,
   "metadata": {},
   "outputs": [
    {
     "data": {
      "text/plain": [
       "True"
      ]
     },
     "execution_count": 36,
     "metadata": {},
     "output_type": "execute_result"
    }
   ],
   "source": [
    "# == 숫자나 문자, 객체를 비료할 때는 is\n",
    "result = func_test4()\n",
    "result is None"
   ]
  },
  {
   "cell_type": "code",
   "execution_count": 37,
   "metadata": {},
   "outputs": [
    {
     "data": {
      "text/plain": [
       "NoneType"
      ]
     },
     "execution_count": 37,
     "metadata": {},
     "output_type": "execute_result"
    }
   ],
   "source": [
    "#맴버변수,(시스템에서 생성한 변수를 확인할때 __(변수) __)\n",
    "result.__class__"
   ]
  },
  {
   "cell_type": "code",
   "execution_count": 38,
   "metadata": {},
   "outputs": [
    {
     "data": {
      "text/plain": [
       "function"
      ]
     },
     "execution_count": 38,
     "metadata": {},
     "output_type": "execute_result"
    }
   ],
   "source": [
    "func_test4.__class__"
   ]
  },
  {
   "cell_type": "code",
   "execution_count": 40,
   "metadata": {},
   "outputs": [
    {
     "name": "stdout",
     "output_type": "stream",
     "text": [
      "15 5 50\n",
      "<class 'function'>\n"
     ]
    }
   ],
   "source": [
    "def func_test3(a,b):\n",
    "    return a+b, a-b, a*b\n",
    "a, b, c =func_test3(10, 5)\n",
    "print(a, b, c)\n",
    "print(type(func_test3))    # 함수도 객체다"
   ]
  },
  {
   "cell_type": "code",
   "execution_count": 43,
   "metadata": {},
   "outputs": [
    {
     "name": "stdout",
     "output_type": "stream",
     "text": [
      "15\n"
     ]
    }
   ],
   "source": [
    "# 커링\n",
    "def all_number(x,y):\n",
    "    return x+y\n",
    "add_five=lambda y: all_number(5,y)  #무명함수 => 유명함수\n",
    "print(add_five(10))"
   ]
  },
  {
   "cell_type": "code",
   "execution_count": null,
   "metadata": {},
   "outputs": [],
   "source": [
    "# 문제 : 두 점 사이의 거리값을 구하는 함수를 작성하시오(나의 답ㅠㅠ)\n",
    "# root =>\n",
    "import math\n",
    "# math.sqrt()  <=루트를 하는 함수\n",
    "point1=(input(\"x1좌표를 입력하세요\"))\n",
    "point2=(input(\"x2좌표를 입력하세요\"))\n",
    "point3=(input(\"y1좌표를 입력하세요\"))\n",
    "point4=(input(\"y2좌표를 입력하세요\"))\n",
    "\n",
    "def func_dis(po1, po2, po3, po4):\n",
    "    return \n",
    "\n"
   ]
  },
  {
   "cell_type": "code",
   "execution_count": 44,
   "metadata": {},
   "outputs": [
    {
     "name": "stdout",
     "output_type": "stream",
     "text": [
      "1.4142135623730951\n"
     ]
    },
    {
     "data": {
      "text/plain": [
       "<function __main__.distance(x1, y1, x2, y2)>"
      ]
     },
     "execution_count": 44,
     "metadata": {},
     "output_type": "execute_result"
    }
   ],
   "source": [
    "# 문제 : 두 점 사이의 거리값을 구하는 함수를 작성하시오(선생님 답)\n",
    "# root =>\n",
    "import math\n",
    "# math.sqrt()  <=루트를 하는 함수\n",
    "\n",
    "def distance (x1,y1,x2,y2):\n",
    "    \"\"\"두 점 사이의 거리를 구하는 함수. \"\"\"\n",
    "    dx = x1-x2\n",
    "    dy = y1-y2\n",
    "    dist=math.sqrt(dx**2+dy**2)\n",
    "    return dist\n",
    "print(distance (1,1,2,2))\n",
    "distance"
   ]
  },
  {
   "cell_type": "code",
   "execution_count": 45,
   "metadata": {},
   "outputs": [
    {
     "data": {
      "text/plain": [
       "120"
      ]
     },
     "execution_count": 45,
     "metadata": {},
     "output_type": "execute_result"
    }
   ],
   "source": [
    "#수학에서 factorial 5! = 5*4*3*2*1\n",
    "def factorial(n):\n",
    "    sum = 1        #항등원 : 덧셈의 항등원은 0, 곱셈의 항등원 1, 행렬의 항등원 : 단위행렬(대각선이 1인 행렬)\n",
    "    for i in range(n, 1, -1):\n",
    "        sum*=i\n",
    "    return sum\n",
    "factorial(5)"
   ]
  },
  {
   "cell_type": "code",
   "execution_count": 47,
   "metadata": {},
   "outputs": [
    {
     "data": {
      "text/plain": [
       "120"
      ]
     },
     "execution_count": 47,
     "metadata": {},
     "output_type": "execute_result"
    }
   ],
   "source": [
    "#재귀함수 : 함수가 자기 자신 함수를 호출(종료점이 있어야 무한루프(stack overflow)가 안된다.)  => 트리구조 짤때 사용된다.\n",
    "\n",
    "def factorial(n, stop=1):\n",
    "    if n<=stop or n<=0:   #종료조건, 입력제한\n",
    "        return 1\n",
    "    return n*factorial(n-1,stop)\n",
    "factorial(5)"
   ]
  },
  {
   "cell_type": "code",
   "execution_count": 48,
   "metadata": {},
   "outputs": [
    {
     "name": "stdout",
     "output_type": "stream",
     "text": [
      "8\n"
     ]
    }
   ],
   "source": [
    "# power 함수를 구현하시오(2^10)   # pow(2,10)\n",
    "def power(r,n):\n",
    "    value=1\n",
    "    for i in range(1,n+1):\n",
    "        value= r*value\n",
    "    return value\n",
    "print(power(2,3))"
   ]
  },
  {
   "cell_type": "code",
   "execution_count": 50,
   "metadata": {},
   "outputs": [
    {
     "name": "stdout",
     "output_type": "stream",
     "text": [
      "8\n"
     ]
    }
   ],
   "source": [
    "# 위의 내용을 재귀함수로 구하시오\n",
    "\n",
    "def power(r,n):\n",
    "    if n==1:\n",
    "        return r\n",
    "    else:\n",
    "        return r*power(r,n-1)\n",
    "print(power(2,3))"
   ]
  },
  {
   "cell_type": "code",
   "execution_count": 52,
   "metadata": {},
   "outputs": [
    {
     "name": "stdout",
     "output_type": "stream",
     "text": [
      "inner\n"
     ]
    }
   ],
   "source": [
    "# 내부함수\n",
    "def outer():\n",
    "    def inner():\n",
    "        print('inner')\n",
    "    inner()\n",
    "def inner():\n",
    "    print('global inner')\n",
    "outer()"
   ]
  },
  {
   "cell_type": "code",
   "execution_count": 54,
   "metadata": {},
   "outputs": [
    {
     "name": "stdout",
     "output_type": "stream",
     "text": [
      "0.4956073924905484\n",
      "0.5134733932579167\n",
      "0.6552687842882282\n",
      "0.6624638709354889\n",
      "0.22706713823397784\n"
     ]
    }
   ],
   "source": [
    "#generator:메모리를 낭비하지 않고 사용하기 위해 제너레이터를 사용한다. (yield를 꼭 써야 무한루프가 안됨)\n",
    "#for in : Colledtions(list, tuple, dict, set), iterator(ranges), gennerator, eneumerator\n",
    "import random\n",
    "def gaus_dist(n):\n",
    "    while n >0:\n",
    "        yield random.random()  # 비동기 호출함수 (0~1 사이 값)\n",
    "        n -= 1\n",
    "gd = gaus_dist(5)\n",
    "for i in gd:              #[0.4956073924905484, 0.5134733932579167, 0.6552687842882282, 0.6624638709354889, 0.22706713823397784]\n",
    "    print(i)"
   ]
  },
  {
   "cell_type": "code",
   "execution_count": 55,
   "metadata": {},
   "outputs": [
    {
     "name": "stdout",
     "output_type": "stream",
     "text": [
      "python's recipe no.1\n",
      "perl's recipe no.2\n"
     ]
    },
    {
     "data": {
      "text/plain": [
       "(2599146707416, 2599115226712)"
      ]
     },
     "execution_count": 55,
     "metadata": {},
     "output_type": "execute_result"
    }
   ],
   "source": [
    "# 함수가 값을 저장할 수 있는가?\n",
    "# clouser(자바스크립트에서 사용하던 방식)\n",
    "def cookbook(name):\n",
    "    def recipe(no):\n",
    "        print(\"%s's recipe no.%d\"% (name,no))\n",
    "    return recipe\n",
    "\n",
    "python_recipe = cookbook('python')\n",
    "perl_recipe = cookbook('perl')\n",
    "python_recipe(1)\n",
    "perl_recipe(2)\n",
    "id(python_recipe), id(perl_recipe)"
   ]
  },
  {
   "cell_type": "code",
   "execution_count": 57,
   "metadata": {},
   "outputs": [
    {
     "name": "stdout",
     "output_type": "stream",
     "text": [
      "         1.7560\n",
      "         2.2220\n",
      "              1\n"
     ]
    }
   ],
   "source": [
    "# clouser 클로저의 응용(장식자 :decorator)\n",
    "def format_and_pad(template, space):\n",
    "    def formatter(x):\n",
    "        return(template %x).rjust(space)\n",
    "    return formatter\n",
    "               \n",
    "fmt=format_and_pad('%.4f', 15)  #str, int, float\n",
    "print(fmt(1.756))\n",
    "print(fmt(2.222))\n",
    "fmt2=format_and_pad('%d',15)\n",
    "print(fmt2(1.756))"
   ]
  },
  {
   "cell_type": "code",
   "execution_count": null,
   "metadata": {},
   "outputs": [],
   "source": [
    "#데이터를 입력받아\n",
    "#삼각형의 넓이 (밑변 x 높이 /2)\n",
    "#사각형의 넓이 (밑변 x 높이)\n",
    "#원의 넓이를 계산하는 함수를 작성해 보시오 (반지름) math.pi <= 반지름(3.14)\n"
   ]
  },
  {
   "cell_type": "code",
   "execution_count": null,
   "metadata": {},
   "outputs": [],
   "source": [
    "len1 = (input(\"밑변을 입력해주세요\"))\n",
    "len2 = (input(\"높이를 입력해수세요\"))\n",
    "def tri(len1, len2):\n",
    "        print(\"삼각형의 넓이는\",)"
   ]
  },
  {
   "cell_type": "code",
   "execution_count": 59,
   "metadata": {},
   "outputs": [
    {
     "name": "stdin",
     "output_type": "stream",
     "text": [
      "밑변이나 반지름으로 사용할 값을 입력하시오 10\n",
      "삼각형이나 사각형의 높이를 입력하시오 10\n"
     ]
    },
    {
     "name": "stdout",
     "output_type": "stream",
     "text": [
      "삼각형의 넓이는  50.0\n",
      "사각형의 넓이는  100\n",
      "원의 넓이는  314.1592653589793\n"
     ]
    }
   ],
   "source": [
    "import math\n",
    "def cal_tri(mylist):\n",
    "    return mylist[0]*mylist[1]/2\n",
    "def cal_rec(mylist):\n",
    "    return mylist[0]*mylist[1]\n",
    "def cal_cir(mylist):\n",
    "    return math.pi * (mylist[0]**2)\n",
    "mylist =[]\n",
    "width = eval(input(\"밑변이나 반지름으로 사용할 값을 입력하시오\"))\n",
    "height = eval(input(\"삼각형이나 사각형의 높이를 입력하시오\"))\n",
    "mylist.append(width)\n",
    "mylist.append(height)\n",
    "print(\"삼각형의 넓이는 \", cal_tri(mylist))\n",
    "print(\"사각형의 넓이는 \", cal_rec(mylist))\n",
    "print(\"원의 넓이는 \", cal_cir(mylist))"
   ]
  },
  {
   "cell_type": "code",
   "execution_count": null,
   "metadata": {},
   "outputs": [],
   "source": [
    "# 시간과 시간당 급여를 입력받아 주급을 계산하느 프로그램을 작성하시오\n",
    "# 조건: 40시간이 넘으면 1.5배하여 지급합니다.\n",
    "# 매개변수 : (시간, 시간당급여)"
   ]
  },
  {
   "cell_type": "code",
   "execution_count": 61,
   "metadata": {},
   "outputs": [
    {
     "name": "stdin",
     "output_type": "stream",
     "text": [
      "주간 일한 시간을 입력하시오 39\n",
      "시간당 급여를 입력해주세요 1000\n"
     ]
    },
    {
     "name": "stdout",
     "output_type": "stream",
     "text": [
      "주급은 <function cal_time_income at 0x0000025D2938E048>\n"
     ]
    }
   ],
   "source": [
    "#내가 실습\n",
    "import math                          \n",
    "def cal_time_income(mylist):\n",
    "    if time<40:\n",
    "        mylist[0]*mylist[1]\n",
    "    else:\n",
    "        mylist[0]*mylist[1]*1.5\n",
    "\n",
    "time=eval(input(\"주간 일한 시간을 입력하시오\"))\n",
    "time_income=eval(input(\"시간당 급여를 입력해주세요\"))\n",
    "mylist.append(time)\n",
    "mylist.append(time_income)\n",
    "print(\"주급은\", cal_time_income)"
   ]
  },
  {
   "cell_type": "code",
   "execution_count": 63,
   "metadata": {},
   "outputs": [
    {
     "name": "stdin",
     "output_type": "stream",
     "text": [
      "시간당 급여는:  10\n",
      "주간 총 근무시간:  10\n"
     ]
    },
    {
     "name": "stdout",
     "output_type": "stream",
     "text": [
      "주간 수입은:100.00원\n"
     ]
    }
   ],
   "source": [
    "#선생님 답\n",
    "#시간과 시간당 급여를 입력받아 주급을 계산하는 프로그램을 작성하시오\n",
    "basictime=40\n",
    "def pay(wage, hours):\n",
    "    if hours <= basictime:\n",
    "        amount = wage*hours\n",
    "    else:\n",
    "        amount = (wage*basictime)+((1.5)*wage*(hours-basictime))\n",
    "    return amount\n",
    "hourlyWage = eval(input(\"시간당 급여는: \"))\n",
    "hoursWorked = eval(input(\"주간 총 근무시간: \"))\n",
    "earnings = pay(hourlyWage, hoursWorked)\n",
    "print(\"주간 수입은:{0:,.2f}원\".format(earnings))"
   ]
  },
  {
   "cell_type": "code",
   "execution_count": null,
   "metadata": {},
   "outputs": [],
   "source": [
    "# 이자율이 주어졌을 때 기간 거치후의 총액과 이자수익을 출력하시오\n",
    "# 복리계산 = (원가1 + 원가* 이율 0.04)**거치년수\n",
    "# INREREST_RATE = 0.04 (4)\n",
    "# 매개변수 : 원금, 거치기간\n",
    "# 단서 조건 : 입력 함수, 계산 함수, 출력함수로 분리해서 작성하시오"
   ]
  },
  {
   "cell_type": "code",
   "execution_count": 66,
   "metadata": {},
   "outputs": [
    {
     "name": "stdin",
     "output_type": "stream",
     "text": [
      "원금을 입력하세요 1000\n",
      "거치 년수를 입력하세요 2\n"
     ]
    },
    {
     "name": "stdout",
     "output_type": "stream",
     "text": [
      "총액은 <function cal_rate at 0x0000025D2938ECA8>\n"
     ]
    }
   ],
   "source": [
    "#나의 문풀(ㅠㅠ)\n",
    "rate=0.04\n",
    "mylist=[]\n",
    "#계산함수\n",
    "def cal_rate(won,year):\n",
    "    return won*(1+rate)**year\n",
    "\n",
    "#입력\n",
    "def inner():\n",
    "    won = eval(input(\"원금을 입력하세요\"))\n",
    "    year = eval(input(\"거치 년수를 입력하세요\"))\n",
    "    mylist.append(won)\n",
    "    mylist.append(year)\n",
    "    return mylist\n",
    "\n",
    "#출력\n",
    "def out(*mylist):\n"
   ]
  },
  {
   "cell_type": "code",
   "execution_count": 74,
   "metadata": {},
   "outputs": [
    {
     "name": "stdin",
     "output_type": "stream",
     "text": [
      "예금액 :  1000\n",
      "기간 :  2\n"
     ]
    },
    {
     "name": "stdout",
     "output_type": "stream",
     "text": [
      "예금 총액 : $1,081.60 이자 총액: $81.60\n"
     ]
    },
    {
     "name": "stdin",
     "output_type": "stream",
     "text": [
      "예금액 :  100\n",
      "기간 :  2\n"
     ]
    },
    {
     "name": "stdout",
     "output_type": "stream",
     "text": [
      "예금 총액 : $108.16 이자 총액: $8.16\n"
     ]
    }
   ],
   "source": [
    "#선생님의 답\n",
    "# 단서 조건 : 입력 함수, 계산 함수, 출력함수로 분리해서 작성하시오 \n",
    "rate=0.04\n",
    "def getinput(): #입력\n",
    "    principal = eval(input(\"예금액 : \"))\n",
    "    sumyear = eval(input(\"기간 : \"))\n",
    "    return (principal, sumyear)\n",
    "def balanceAndInterest(prin, numYears): #처리\n",
    "    balance = prin*((1+rate)**numYears) #원금포함 이자 계산액\n",
    "    interestEarned = balance -prin\n",
    "    return (balance,interestEarned)\n",
    "def displayOutput(bal, intEarned): #출력\n",
    "    print(\"예금 총액 : ${0:,.2f} 이자 총액: ${1:,.2f}\".format(bal, intEarned))\n",
    "def main():\n",
    "    principal, sumyear = getinput()\n",
    "    bal, intEarned = balanceAndInterest(principal, sumyear)\n",
    "    displayOutput(bal, intEarned)\n",
    "    displayOutput(*(balanceAndInterest(*getinput())))\n",
    "main()"
   ]
  },
  {
   "cell_type": "code",
   "execution_count": 70,
   "metadata": {},
   "outputs": [],
   "source": [
    "def main():\n",
    "    principal, sumyear = getinput()\n",
    "    bal, intEarned = balanceAndInterest(principal, sumyear)\n",
    "    displayOutput(bal, intEarned)\n",
    "    displayOutput(*(balanceAndInterest(*getinput())))"
   ]
  },
  {
   "cell_type": "code",
   "execution_count": null,
   "metadata": {},
   "outputs": [],
   "source": [
    "# 함수화 프로그래밍 for+ 함수를 적용\n",
    "lambda 함수를 이용한 처리가 많음"
   ]
  },
  {
   "cell_type": "code",
   "execution_count": 75,
   "metadata": {},
   "outputs": [
    {
     "data": {
      "text/plain": [
       "100"
      ]
     },
     "execution_count": 75,
     "metadata": {},
     "output_type": "execute_result"
    }
   ],
   "source": [
    "(lambda x: x*x)(10)"
   ]
  },
  {
   "cell_type": "code",
   "execution_count": 76,
   "metadata": {},
   "outputs": [
    {
     "name": "stdout",
     "output_type": "stream",
     "text": [
      "11\n"
     ]
    },
    {
     "data": {
      "text/plain": [
       "15"
      ]
     },
     "execution_count": 76,
     "metadata": {},
     "output_type": "execute_result"
    }
   ],
   "source": [
    "incr=lambda x,incr=1: x+incr #무명함수 -> 유명함수\n",
    "print(incr(10))\n",
    "incr(10,5)"
   ]
  },
  {
   "cell_type": "code",
   "execution_count": 78,
   "metadata": {},
   "outputs": [
    {
     "name": "stdout",
     "output_type": "stream",
     "text": [
      "['aaaa', 'foo', 'abab', 'bar', 'card']\n"
     ]
    }
   ],
   "source": [
    "# 개수에 따른 정렬\n",
    "strings= ['foo','card','bar','aaaa','abab']\n",
    "strings.sort()\n",
    "# 정렬기준을 key에 함수로 전달()\n",
    "strings.sort(key=lambda x: len(set(list(x)))) #중복되지 않는 데이터 개수에 따라\n",
    "print(strings)"
   ]
  },
  {
   "cell_type": "code",
   "execution_count": 79,
   "metadata": {},
   "outputs": [
    {
     "name": "stdout",
     "output_type": "stream",
     "text": [
      "<map object at 0x0000025D29366608>\n",
      "[9, 16]\n"
     ]
    }
   ],
   "source": [
    "#디폴트가 없기 때문에 첫번째 식을 꼭 써야한다.\n",
    "m = map(lambda x: x*x, [3,4])   #고유한 포멧으로 출력          #R에서의 apply함수와 같다\n",
    "print(m)                                                       #맴은 바로 볼 수 없음\n",
    "print(list(m))                  #리스트로 캐스팅해야 출력"
   ]
  },
  {
   "cell_type": "code",
   "execution_count": 80,
   "metadata": {},
   "outputs": [
    {
     "data": {
      "text/plain": [
       "[0, 1, 4, 9, 16]"
      ]
     },
     "execution_count": 80,
     "metadata": {},
     "output_type": "execute_result"
    }
   ],
   "source": [
    "list(map(lambda x: x*x, range(5)))"
   ]
  },
  {
   "cell_type": "code",
   "execution_count": 81,
   "metadata": {},
   "outputs": [
    {
     "data": {
      "text/plain": [
       "[0, 1, 4, 9, 16]"
      ]
     },
     "execution_count": 81,
     "metadata": {},
     "output_type": "execute_result"
    }
   ],
   "source": [
    "sqr =lambda x: x*x\n",
    "list(map(sqr, range(5)))"
   ]
  },
  {
   "cell_type": "code",
   "execution_count": 82,
   "metadata": {},
   "outputs": [
    {
     "data": {
      "text/plain": [
       "[0, 1, 4, 9, 16]"
      ]
     },
     "execution_count": 82,
     "metadata": {},
     "output_type": "execute_result"
    }
   ],
   "source": [
    "def sqr2(x):\n",
    "    return x*x\n",
    "list(map(sqr2, range(5)))"
   ]
  },
  {
   "cell_type": "code",
   "execution_count": null,
   "metadata": {},
   "outputs": [],
   "source": [
    "#문제 : 다음 출근시간 데이터에 대하여 기본금 10,000원 시간당 7500원의 급여를 계산하고\n",
    "#lambda함수와 map함수를 이용하여 구하시오"
   ]
  },
  {
   "cell_type": "code",
   "execution_count": 83,
   "metadata": {},
   "outputs": [
    {
     "name": "stdout",
     "output_type": "stream",
     "text": [
      "[1210000, 1135000, 910000, 1360000, 2260000, 3010000]\n"
     ]
    }
   ],
   "source": [
    "total_time=[160,150,120,180,300,400]\n",
    "calc=lambda x: 10000+7500*x\n",
    "pay=list(map(calc, total_time))\n",
    "print(pay)"
   ]
  },
  {
   "cell_type": "code",
   "execution_count": 84,
   "metadata": {},
   "outputs": [
    {
     "name": "stdout",
     "output_type": "stream",
     "text": [
      "[1210000, 1135000, 910000, 1360000, 2260000, 3010000]\n"
     ]
    }
   ],
   "source": [
    "pay=list(map(lambda x: 10000+7500*x, total_time))\n",
    "print(pay)"
   ]
  },
  {
   "cell_type": "code",
   "execution_count": null,
   "metadata": {},
   "outputs": [],
   "source": [
    "def odd(p):\n",
    "    return [i for i in p if i%2]  #나머지가 1 => 홀수\n",
    "odd(range(10))"
   ]
  },
  {
   "cell_type": "code",
   "execution_count": 89,
   "metadata": {},
   "outputs": [
    {
     "name": "stdout",
     "output_type": "stream",
     "text": [
      "[1, 3, 5, 7, 9, 11, 13, 15, 17, 19, 21, 23, 25, 27, 29, 31, 33, 35, 37, 39, 41, 43, 45, 47, 49, 51, 53, 55, 57, 59, 61, 63, 65, 67, 69, 71, 73, 75, 77, 79, 81, 83, 85, 87, 89, 91, 93, 95, 97, 99]\n"
     ]
    }
   ],
   "source": [
    "# 필터의 함수는 True/False를 리턴하는 함수여야 함\n",
    "def odd(k):\n",
    "    return k%2\n",
    "print(list(filter(odd, range(100))))"
   ]
  },
  {
   "cell_type": "code",
   "execution_count": null,
   "metadata": {},
   "outputs": [],
   "source": [
    "# 문제 : 1부터 99사이의 데이터 중 3으로 나우어 떨어지는 데이터를 filter를 이용해 구하시오"
   ]
  },
  {
   "cell_type": "code",
   "execution_count": 90,
   "metadata": {},
   "outputs": [
    {
     "name": "stdout",
     "output_type": "stream",
     "text": [
      "[0, 3, 6, 9, 12, 15, 18, 21, 24, 27, 30, 33, 36, 39, 42, 45, 48, 51, 54, 57, 60, 63, 66, 69, 72, 75, 78, 81, 84, 87, 90, 93, 96, 99]\n"
     ]
    }
   ],
   "source": [
    "def odd(k):\n",
    "    return k%3==0\n",
    "print(list(filter(odd, range(100))))"
   ]
  },
  {
   "cell_type": "code",
   "execution_count": 92,
   "metadata": {},
   "outputs": [
    {
     "data": {
      "text/plain": [
       "55"
      ]
     },
     "execution_count": 92,
     "metadata": {},
     "output_type": "execute_result"
    }
   ],
   "source": [
    "#reduce (분산처리시 값을 계산할 때 사용)\n",
    "from functools import reduce\n",
    "reduce(lambda x, y: x+y, range(11)) #이전에 계산된 값이 x로"
   ]
  },
  {
   "cell_type": "code",
   "execution_count": 93,
   "metadata": {},
   "outputs": [
    {
     "data": {
      "text/plain": [
       "362880"
      ]
     },
     "execution_count": 93,
     "metadata": {},
     "output_type": "execute_result"
    }
   ],
   "source": [
    "reduce(lambda x, y: x*y, range(1,10))"
   ]
  },
  {
   "cell_type": "code",
   "execution_count": 94,
   "metadata": {},
   "outputs": [
    {
     "data": {
      "text/plain": [
       "'edcba'"
      ]
     },
     "execution_count": 94,
     "metadata": {},
     "output_type": "execute_result"
    }
   ],
   "source": [
    "reduce(lambda x, y: y+x, 'abcde')"
   ]
  },
  {
   "cell_type": "code",
   "execution_count": 97,
   "metadata": {},
   "outputs": [
    {
     "data": {
      "text/plain": [
       "5.0"
      ]
     },
     "execution_count": 97,
     "metadata": {},
     "output_type": "execute_result"
    }
   ],
   "source": [
    "func_choice = [lambda x, y: x**y, lambda x, y: x/y]\n",
    "func_choice[0](10,2)\n",
    "func_choice[1](10,2)"
   ]
  },
  {
   "cell_type": "code",
   "execution_count": 98,
   "metadata": {},
   "outputs": [
    {
     "name": "stdout",
     "output_type": "stream",
     "text": [
      "[5, 6, 7, 8]\n"
     ]
    }
   ],
   "source": [
    "# 문제 1) 다음 데이터에서 4보다 큰 수만 출력하도록 필터링(filtering) 해보시오\n",
    "data=[1,2,3,4,5,6,7,8,3,4,2,1]\n",
    "\n",
    "fil= list(filter(lambda x: x>4, data))\n",
    "print(fil)"
   ]
  },
  {
   "cell_type": "code",
   "execution_count": 100,
   "metadata": {},
   "outputs": [],
   "source": [
    "# 문제2) 숫자를 입력받아서 홀수인 경우는 \"나는 행복합니다.\"라고 출력하고\n",
    "#짝수인 경우는 \"나는 귀중한 사람입니다.\"라고 출력하는 함수 선택을 구현해 보시오\n",
    "\n",
    "func_choice = [lambda:print(\"나는 귀중한 사람입니다.\"), lambda:print(\"나는 행복합니다.\")]"
   ]
  },
  {
   "cell_type": "code",
   "execution_count": 101,
   "metadata": {},
   "outputs": [
    {
     "name": "stdin",
     "output_type": "stream",
     "text": [
      "숫자를 입력하시오 10\n"
     ]
    },
    {
     "name": "stdout",
     "output_type": "stream",
     "text": [
      "나는 귀중한 사람입니다.\n"
     ]
    }
   ],
   "source": [
    "condition = eval(input(\"숫자를 입력하시오\"))\n",
    "condition %=2\n",
    "func_choice[condition]()"
   ]
  },
  {
   "cell_type": "code",
   "execution_count": 102,
   "metadata": {},
   "outputs": [],
   "source": [
    "# 성적 프로그램을 \"입력, 처리, 출력 함수\"를 이용해서 구현하시오\n",
    "# 이름, 국어, 영어, 수학, 총점, 평균\n",
    "# sungjuk=[]    #전역적으로 선언하고 구현"
   ]
  },
  {
   "cell_type": "code",
   "execution_count": 14,
   "metadata": {},
   "outputs": [
    {
     "name": "stdin",
     "output_type": "stream",
     "text": [
      "이름 강\n",
      "국어 23\n",
      "영어 23\n",
      "수학 23\n"
     ]
    },
    {
     "name": "stdout",
     "output_type": "stream",
     "text": [
      "강\t23\t23\t23\t69\t23.0\t"
     ]
    }
   ],
   "source": [
    "sungjuk=[]\n",
    "\n",
    "def getinput(): #입력\n",
    "    name=input(\"이름\")\n",
    "    kor= eval(input(\"국어\"))\n",
    "    eng= eval(input(\"영어\"))\n",
    "    math= eval(input(\"수학\"))\n",
    "    sungjuk.append(name)\n",
    "    sungjuk.append(kor)\n",
    "    sungjuk.append(eng)\n",
    "    sungjuk.append(math)\n",
    "    return sungjuk\n",
    "\n",
    "def cal_total(sungjuk): #처리\n",
    "    total = sum(sungjuk[1:])\n",
    "    avg = total/3\n",
    "    sungjuk.append(total)\n",
    "    sungjuk.append(avg)\n",
    "    return sungjuk\n",
    "\n",
    "def Output(sungjuk): #출력\n",
    "    for i in range(len(sungjuk)):\n",
    "        print(sungjuk[i], end=\"\\t\")\n",
    "    \n",
    "Output(cal_total(getinput()))"
   ]
  },
  {
   "cell_type": "code",
   "execution_count": null,
   "metadata": {},
   "outputs": [],
   "source": []
  },
  {
   "cell_type": "code",
   "execution_count": null,
   "metadata": {},
   "outputs": [],
   "source": []
  },
  {
   "cell_type": "code",
   "execution_count": null,
   "metadata": {},
   "outputs": [],
   "source": []
  },
  {
   "cell_type": "code",
   "execution_count": null,
   "metadata": {},
   "outputs": [],
   "source": []
  },
  {
   "cell_type": "code",
   "execution_count": null,
   "metadata": {},
   "outputs": [],
   "source": []
  },
  {
   "cell_type": "code",
   "execution_count": null,
   "metadata": {},
   "outputs": [],
   "source": []
  }
 ],
 "metadata": {
  "kernelspec": {
   "display_name": "Python 3",
   "language": "python",
   "name": "python3"
  },
  "language_info": {
   "codemirror_mode": {
    "name": "ipython",
    "version": 3
   },
   "file_extension": ".py",
   "mimetype": "text/x-python",
   "name": "python",
   "nbconvert_exporter": "python",
   "pygments_lexer": "ipython3",
   "version": "3.7.4"
  }
 },
 "nbformat": 4,
 "nbformat_minor": 4
}
