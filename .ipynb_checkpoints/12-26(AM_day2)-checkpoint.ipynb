{
 "cells": [
  {
   "cell_type": "code",
   "execution_count": 1,
   "metadata": {},
   "outputs": [],
   "source": [
    "#반복문"
   ]
  },
  {
   "cell_type": "code",
   "execution_count": 3,
   "metadata": {},
   "outputs": [
    {
     "name": "stdout",
     "output_type": "stream",
     "text": [
      "7 2 4\n",
      "3 8\n"
     ]
    }
   ],
   "source": [
    "num1=6\n",
    "num1+=1\n",
    "num2=7\n",
    "num2-=5\n",
    "num3=8\n",
    "num3/=2\n",
    "print(num1, num2, round(num3))\n",
    "num1=1\n",
    "num1*=3\n",
    "num2=2\n",
    "num2**=3\n",
    "print(num1,num2)"
   ]
  },
  {
   "cell_type": "code",
   "execution_count": 6,
   "metadata": {},
   "outputs": [
    {
     "name": "stdout",
     "output_type": "stream",
     "text": [
      "Non-negative\n"
     ]
    }
   ],
   "source": [
    "# 3항 연산자\n",
    "x=5\n",
    "ans = 'Non-negative'if x>=0 else 'Negative'\n",
    "print(ans)  #문자열(str)"
   ]
  },
  {
   "cell_type": "code",
   "execution_count": 8,
   "metadata": {},
   "outputs": [
    {
     "name": "stdout",
     "output_type": "stream",
     "text": [
      "empty city\n"
     ]
    }
   ],
   "source": [
    "city=' '      # ''은 문자열 거짓, 하지만 공백이 있으면 문자열로 인식해서 출력이 됨, 숫자의 거짓은 0, list의 거짓[], dict: {}, tuple의 거짓:()\n",
    "if city:     # 조건이 참인 경우만 실행\n",
    "    print('empty city')"
   ]
  },
  {
   "cell_type": "code",
   "execution_count": 15,
   "metadata": {},
   "outputs": [
    {
     "name": "stdout",
     "output_type": "stream",
     "text": [
      "2019-12-26 11:04:39.040687\n",
      "\n"
     ]
    },
    {
     "name": "stdin",
     "output_type": "stream",
     "text": [
      "생년월일(19951031)을 입력하시오 22001226\n"
     ]
    },
    {
     "name": "stdout",
     "output_type": "stream",
     "text": [
      "당신의 나이는 -180\n",
      "당신은 미성년자입니다.\n"
     ]
    }
   ],
   "source": [
    "import datetime\n",
    "dt = datetime.datetime.now()\n",
    "print(dt)\n",
    "print()\n",
    "age= input(\"생년월일(19951031)을 입력하시오\")\n",
    "year=int(age[0:4])  #마지막은 미포함\n",
    "month=int(age[4:6])\n",
    "day=int(age[6:])\n",
    "\n",
    "# 빼기연산\n",
    "# 분산 : 상계방지 (제곱)\n",
    "\n",
    "year_diff = dt.year-year\n",
    "month_diff = dt.month-month\n",
    "day_diff = dt.day-day\n",
    "if day_diff<0: #일 내림 처리\n",
    "    month_diff -=1\n",
    "if month_diff <0: #월 내림 처리\n",
    "    year_diff-=1\n",
    "print('당신의 나이는', year_diff+1 )\n",
    "if year_diff < 18:\n",
    "    print('당신은 미성년자입니다.')\n",
    "else:\n",
    "    print('당신은 미성년자가 아닙니다.')\n"
   ]
  },
  {
   "cell_type": "code",
   "execution_count": null,
   "metadata": {},
   "outputs": [],
   "source": [
    "# 데이터입력-> 처리(연산자), 제어문( 판단문, 한가지 규칙을 여러 데이터에 적용: 반복문)"
   ]
  },
  {
   "cell_type": "code",
   "execution_count": null,
   "metadata": {},
   "outputs": [],
   "source": [
    "# for\n",
    "# for (i=0; i<100;i++) : 인덱스 오버플로우\n",
    "{    \n",
    "}: 인덱스 오버플로우\n",
    "# for in 문"
   ]
  },
  {
   "cell_type": "code",
   "execution_count": null,
   "metadata": {},
   "outputs": [],
   "source": [
    "# for in 문"
   ]
  },
  {
   "cell_type": "code",
   "execution_count": 18,
   "metadata": {},
   "outputs": [
    {
     "name": "stdout",
     "output_type": "stream",
     "text": [
      "earth air fire water "
     ]
    }
   ],
   "source": [
    "# 데이터를 이용하는 방법\n",
    "elements = [\"earth\", \"air\", \"fire\", \"water\"]\n",
    "for i in elements:     # i = \"earth\"        #collections, iterator: rangeerator, generator, enumerate\n",
    "    print(i, end=' ')  # \"\\n\""
   ]
  },
  {
   "cell_type": "code",
   "execution_count": null,
   "metadata": {},
   "outputs": [],
   "source": [
    "#collections, : list, tuple, dict, set\n",
    "#iterator : range : (i=0; i<100;i++) 와 같은 방법으로 사용(start, end, step)\n",
    "#generator : 데이터 생성, 메모리를 차지하지 않음\n",
    "#enumerate : 맵핑을 해줌 0:earth, 1:air, 2:fire"
   ]
  },
  {
   "cell_type": "code",
   "execution_count": 19,
   "metadata": {},
   "outputs": [
    {
     "name": "stdout",
     "output_type": "stream",
     "text": [
      "0\n",
      "1\n",
      "2\n",
      "3\n",
      "4\n"
     ]
    }
   ],
   "source": [
    "for i in range(5):  # 최종값\n",
    "    print(i)"
   ]
  },
  {
   "cell_type": "code",
   "execution_count": 20,
   "metadata": {},
   "outputs": [
    {
     "name": "stdout",
     "output_type": "stream",
     "text": [
      "2\n",
      "3\n",
      "4\n"
     ]
    }
   ],
   "source": [
    "# 파이썬은 오버로딩이 없음 : default 값으로 처리\n",
    "for i in range(2,5):\n",
    "    print(i)"
   ]
  },
  {
   "cell_type": "code",
   "execution_count": 22,
   "metadata": {},
   "outputs": [
    {
     "name": "stdout",
     "output_type": "stream",
     "text": [
      "0\n",
      "2\n",
      "4\n",
      "6\n",
      "8\n"
     ]
    }
   ],
   "source": [
    "for i in range(0,10,2):  #start, end, step\n",
    "    print(i)"
   ]
  },
  {
   "cell_type": "code",
   "execution_count": 23,
   "metadata": {},
   "outputs": [
    {
     "name": "stdout",
     "output_type": "stream",
     "text": [
      "0\n",
      "earth\n",
      "1\n",
      "air\n",
      "2\n",
      "fire\n",
      "3\n",
      "water\n"
     ]
    }
   ],
   "source": [
    "# 인덱스를 이용하는 방법\n",
    "for i in range(4): #0,1,2,3\n",
    "    print(i)\n",
    "    print(elements[i])"
   ]
  },
  {
   "cell_type": "code",
   "execution_count": 26,
   "metadata": {},
   "outputs": [
    {
     "name": "stdout",
     "output_type": "stream",
     "text": [
      "<range_iterator object at 0x0000024D260FB970>\n",
      "[3, 2, 1, 0]\n"
     ]
    }
   ],
   "source": [
    "# range는 객체(object)다. 그러기 때문에 for문 뒤에서 사용해야 함.\n",
    "ra=reversed(range(4))   #리버스는 거꾸로\n",
    "print(ra)\n",
    "print(list(ra))    #리스트로 캐스팅"
   ]
  },
  {
   "cell_type": "code",
   "execution_count": 27,
   "metadata": {},
   "outputs": [
    {
     "name": "stdout",
     "output_type": "stream",
     "text": [
      "[5, 4, 3, 2, 1, 0]\n"
     ]
    }
   ],
   "source": [
    "print(list(range(5,-1,-1)))"
   ]
  },
  {
   "cell_type": "code",
   "execution_count": 29,
   "metadata": {},
   "outputs": [
    {
     "name": "stdout",
     "output_type": "stream",
     "text": [
      "110\n"
     ]
    }
   ],
   "source": [
    "# 증가변수, 누적변수\n",
    "sum = 0\n",
    "for x in range(1,11):\n",
    "    sum= sum+x\n",
    "    sum+=x\n",
    "print(sum)"
   ]
  },
  {
   "cell_type": "code",
   "execution_count": 31,
   "metadata": {},
   "outputs": [
    {
     "name": "stdout",
     "output_type": "stream",
     "text": [
      "\n",
      "2 * 2 = 4 2 * 3 = 6 2 * 4 = 8 2 * 5 = 10 2 * 6 = 12 2 * 7 = 14 2 * 8 = 16 2 * 9 = 18 \n",
      "3 * 2 = 6 3 * 3 = 9 3 * 4 = 12 3 * 5 = 15 3 * 6 = 18 3 * 7 = 21 3 * 8 = 24 3 * 9 = 27 "
     ]
    }
   ],
   "source": [
    "#중첩된 for문\n",
    "for x in range(2,4):\n",
    "    print()\n",
    "    for y in range(2,10):\n",
    "        print(x, '*', y, '=', x*y, end= \" \")"
   ]
  },
  {
   "cell_type": "code",
   "execution_count": 43,
   "metadata": {},
   "outputs": [
    {
     "name": "stdout",
     "output_type": "stream",
     "text": [
      "\n",
      "2 X 2 = 4 \t 3 X 2 = 6 \t 4 X 2 = 8 \t 5 X 2 = 10 \t 6 X 2 = 12 \t 7 X 2 = 14 \t 8 X 2 = 16 \t 9 X 2 = 18 \t \n",
      "2 X 3 = 6 \t 3 X 3 = 9 \t 4 X 3 = 12 \t 5 X 3 = 15 \t 6 X 3 = 18 \t 7 X 3 = 21 \t 8 X 3 = 24 \t 9 X 3 = 27 \t \n",
      "2 X 4 = 8 \t 3 X 4 = 12 \t 4 X 4 = 16 \t 5 X 4 = 20 \t 6 X 4 = 24 \t 7 X 4 = 28 \t 8 X 4 = 32 \t 9 X 4 = 36 \t \n",
      "2 X 5 = 10 \t 3 X 5 = 15 \t 4 X 5 = 20 \t 5 X 5 = 25 \t 6 X 5 = 30 \t 7 X 5 = 35 \t 8 X 5 = 40 \t 9 X 5 = 45 \t \n",
      "2 X 6 = 12 \t 3 X 6 = 18 \t 4 X 6 = 24 \t 5 X 6 = 30 \t 6 X 6 = 36 \t 7 X 6 = 42 \t 8 X 6 = 48 \t 9 X 6 = 54 \t \n",
      "2 X 7 = 14 \t 3 X 7 = 21 \t 4 X 7 = 28 \t 5 X 7 = 35 \t 6 X 7 = 42 \t 7 X 7 = 49 \t 8 X 7 = 56 \t 9 X 7 = 63 \t \n",
      "2 X 8 = 16 \t 3 X 8 = 24 \t 4 X 8 = 32 \t 5 X 8 = 40 \t 6 X 8 = 48 \t 7 X 8 = 56 \t 8 X 8 = 64 \t 9 X 8 = 72 \t \n",
      "2 X 9 = 18 \t 3 X 9 = 27 \t 4 X 9 = 36 \t 5 X 9 = 45 \t 6 X 9 = 54 \t 7 X 9 = 63 \t 8 X 9 = 72 \t 9 X 9 = 81 \t "
     ]
    }
   ],
   "source": [
    "for x in range(2,10):\n",
    "    print()\n",
    "    for y in range(2,10):\n",
    "        print(y, 'X', x, '=', x*y,'\\t', end= \" \")"
   ]
  },
  {
   "cell_type": "code",
   "execution_count": null,
   "metadata": {},
   "outputs": [],
   "source": []
  },
  {
   "cell_type": "code",
   "execution_count": null,
   "metadata": {},
   "outputs": [],
   "source": []
  },
  {
   "cell_type": "code",
   "execution_count": null,
   "metadata": {},
   "outputs": [],
   "source": []
  }
 ],
 "metadata": {
  "kernelspec": {
   "display_name": "Python 3",
   "language": "python",
   "name": "python3"
  },
  "language_info": {
   "codemirror_mode": {
    "name": "ipython",
    "version": 3
   },
   "file_extension": ".py",
   "mimetype": "text/x-python",
   "name": "python",
   "nbconvert_exporter": "python",
   "pygments_lexer": "ipython3",
   "version": "3.7.4"
  }
 },
 "nbformat": 4,
 "nbformat_minor": 4
}
