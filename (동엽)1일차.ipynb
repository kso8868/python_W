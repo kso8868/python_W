{
 "cells": [
  {
   "cell_type": "markdown",
   "metadata": {},
   "source": [
    "# 편집모드와 명령행 모드\n"
   ]
  },
  {
   "cell_type": "code",
   "execution_count": 2,
   "metadata": {},
   "outputs": [
    {
     "name": "stdout",
     "output_type": "stream",
     "text": [
      "10\n",
      "10\n"
     ]
    }
   ],
   "source": [
    "\n",
    "a = 10  # 10의 영역 주소 -> 값 저장( 맵 핑 )\n",
    "b = a   # 10이 대입되는 것이 아니고, a가 가리키는 주소가 대입됨\n",
    "print(a)  \n",
    "print(b)"
   ]
  },
  {
   "cell_type": "code",
   "execution_count": 3,
   "metadata": {},
   "outputs": [
    {
     "name": "stdout",
     "output_type": "stream",
     "text": [
      "주소값 대입 140707904135856\n",
      "140707904135856\n"
     ]
    },
    {
     "data": {
      "text/plain": [
       "(None, None)"
      ]
     },
     "execution_count": 3,
     "metadata": {},
     "output_type": "execute_result"
    }
   ],
   "source": [
    "# 주소값이 일치함\n",
    "print(\"주소값 대입\", id(a)), print(id(b))"
   ]
  },
  {
   "cell_type": "code",
   "execution_count": 4,
   "metadata": {},
   "outputs": [
    {
     "name": "stdout",
     "output_type": "stream",
     "text": [
      "20\n",
      "10\n",
      "주소값대입 140707904136176\n",
      "140707904135856\n"
     ]
    },
    {
     "data": {
      "text/plain": [
       "(None, None)"
      ]
     },
     "execution_count": 4,
     "metadata": {},
     "output_type": "execute_result"
    }
   ],
   "source": [
    "a = 20\n",
    "print(a)\n",
    "print(b)\n",
    "print(\"주소값대입\", id(a)), print(id(b))"
   ]
  },
  {
   "cell_type": "code",
   "execution_count": 5,
   "metadata": {},
   "outputs": [],
   "source": [
    "# 파이썬은 대소문자를 구분한다."
   ]
  },
  {
   "cell_type": "code",
   "execution_count": 6,
   "metadata": {},
   "outputs": [
    {
     "data": {
      "text/plain": [
       "int"
      ]
     },
     "execution_count": 6,
     "metadata": {},
     "output_type": "execute_result"
    }
   ],
   "source": [
    "type(a)"
   ]
  },
  {
   "cell_type": "code",
   "execution_count": 7,
   "metadata": {},
   "outputs": [
    {
     "name": "stdout",
     "output_type": "stream",
     "text": [
      "10\n"
     ]
    }
   ],
   "source": [
    "a = 10\n",
    "A = 20\n",
    "print(a)"
   ]
  },
  {
   "cell_type": "code",
   "execution_count": 11,
   "metadata": {},
   "outputs": [
    {
     "name": "stdout",
     "output_type": "stream",
     "text": [
      "수식을 입력하시오10\n",
      "10\n",
      "10\n",
      "10\n"
     ]
    }
   ],
   "source": [
    "# 데이터 입력 : 프롬프트 텍스트\n",
    "problem = input(\"수식을 입력하시오\")  # 데이터 입출력은 문자열로 입출력됨\n",
    "# 연산을 위해 데이터 타입을 숫자로 변경필요\n",
    "print(problem)\n",
    "print(int(problem))  #casting : 데이터 형변환( 입력이 숫자형일떄만 가능 -    +는 숫자가 아님)\n",
    "print(eval(problem))  #평가"
   ]
  },
  {
   "cell_type": "code",
   "execution_count": 13,
   "metadata": {},
   "outputs": [
    {
     "name": "stdout",
     "output_type": "stream",
     "text": [
      "0.00424\n",
      "127\n"
     ]
    }
   ],
   "source": [
    "a3 = 4.24e-3  # exponent : 지수형\n",
    "a4 = 0o177  # octal : 8진수로 표헌\n",
    "print(a3)\n",
    "print(a4)"
   ]
  },
  {
   "cell_type": "code",
   "execution_count": 20,
   "metadata": {},
   "outputs": [
    {
     "name": "stdout",
     "output_type": "stream",
     "text": [
      "이름을 입력하세요:현 동엽\n",
      "현\n",
      " \n",
      "동\n",
      "1\n",
      "이름: 동엽\n",
      "성(s): 현\n"
     ]
    }
   ],
   "source": [
    "# fullName 문자열 : 기본이 1차원 배열 \n",
    "# 숫자 : int : 4바이트\n",
    "#        float : 4바이트\n",
    "fullName = input(\"이름을 입력하세요:\")\n",
    "n = fullName.rfind(\" \")\n",
    "\n",
    "print(fullName[0]) # 배열과 리스트의 인덱싱은 동일하다. \n",
    "print(fullName[1])\n",
    "print(fullName[2])\n",
    "print(n)\n",
    "print(\"이름:\", fullName[n+1:]) # :\n",
    "print(\"성(s):\", fullName[:n])"
   ]
  },
  {
   "cell_type": "code",
   "execution_count": 21,
   "metadata": {},
   "outputs": [
    {
     "name": "stdout",
     "output_type": "stream",
     "text": [
      "koreakorea\n",
      "koreakoreakorea\n",
      "a\n",
      "a\n",
      "or\n",
      "ea\n",
      "ea\n",
      "e\n",
      "5\n"
     ]
    },
    {
     "data": {
      "text/plain": [
       "['ko', 'ea']"
      ]
     },
     "execution_count": 21,
     "metadata": {},
     "output_type": "execute_result"
    }
   ],
   "source": [
    "# 문자열은 'single quitation', \"korea\" : double quotation\n",
    "# '''  ''' : 3개인 경우는 입력하는 대로 저장함\n",
    "\n",
    "s = \"korea\" \n",
    "print(s+s)\n",
    "print(s* 3) # 횟수 지정\n",
    "print(s[4])\n",
    "print(s[-1]) #R에서는 - : 제외  // python  - : 뒤에서\n",
    "print(s[1:3])\n",
    "print(s[-2:])\n",
    "print(s[-2:5])\n",
    "print(s[3:-1])\n",
    "print(len(s))\n",
    "s.split('r')\n",
    "\n"
   ]
  },
  {
   "cell_type": "code",
   "execution_count": 22,
   "metadata": {},
   "outputs": [
    {
     "name": "stdout",
     "output_type": "stream",
     "text": [
      "['Seoul', ' Incheon', ' won']\n"
     ]
    }
   ],
   "source": [
    "# csv 데이터 : comma로 분리된 데이터\n",
    "t = 'Seoul, Incheon, won'.split(',')\n",
    "print(t) # 리스트로 분할"
   ]
  },
  {
   "cell_type": "code",
   "execution_count": 23,
   "metadata": {},
   "outputs": [
    {
     "data": {
      "text/plain": [
       "'Seoul, Incheon, won'"
      ]
     },
     "execution_count": 23,
     "metadata": {},
     "output_type": "execute_result"
    }
   ],
   "source": [
    "','.join(t)"
   ]
  },
  {
   "cell_type": "code",
   "execution_count": 25,
   "metadata": {},
   "outputs": [
    {
     "name": "stdout",
     "output_type": "stream",
     "text": [
      "Korea\n",
      "2\n",
      "1\n",
      "True\n",
      "False\n",
      "True\n",
      "koRea\n",
      "True\n",
      "True\n"
     ]
    }
   ],
   "source": [
    "# 파이썬은 객체 지향 프로그래밍으로 설계된 언어임 : 모든 것이 객체, 문자열, 함수도 객체\n",
    "# c, java는 객체지향을 별로도 학습\n",
    "# python은 자체가 객체지향언어\n",
    "# 형태 : 객체.함수\n",
    "# 객체를 선언하고, 그 객체에 속해있는 함수를 사용가능( 나중에 다시 학습 )\n",
    "\n",
    "s = \"korea\"\n",
    "print(s.capitalize())\n",
    "print(s.find('r'))\n",
    "print(s.count('re'))\n",
    "print(s.isalpha())  # 문자열?\n",
    "print(s.isdigit())  # 숫자?\n",
    "print('0123'.isdigit())\n",
    "print(s.replace('r','R'))\n",
    "print(s.startswith('k'))\n",
    "print(s.endswith('a'))\n"
   ]
  },
  {
   "cell_type": "code",
   "execution_count": 26,
   "metadata": {},
   "outputs": [
    {
     "name": "stdout",
     "output_type": "stream",
     "text": [
      "7 -1 0.75\n",
      "-1\n",
      "3\n",
      "1\n",
      "0\n",
      "1\n",
      "1.75\n",
      "1\n"
     ]
    }
   ],
   "source": [
    "a = 3\n",
    "b = 4\n",
    "\n",
    "print(a + b , a-b, a/b)\n",
    "print(a-b)\n",
    "print(a % b)  # 나머지 연산자 : 주로 경우의 수를 생성할 때 사용 : 변수가 가질 수 있는 경우의 수를 확인\n",
    "print(1%2)\n",
    "print(2%2)\n",
    "print(3%2)\n",
    "print(7/4)\n",
    "print(7//4)"
   ]
  },
  {
   "cell_type": "code",
   "execution_count": 28,
   "metadata": {},
   "outputs": [
    {
     "name": "stdout",
     "output_type": "stream",
     "text": [
      "sum([1,2,3]): 6\n",
      "min([1,2,3]): 1\n",
      "abs(-11): 11\n",
      "pow(2,10): 1024\n",
      "round(3.141595): 3\n",
      "round(3.141595): 3.14\n"
     ]
    }
   ],
   "source": [
    "# 내장함수\n",
    "# 괄호 : [ ]:리스트, {}:dict, set, (): tuple,함수\n",
    "print(\"sum([1,2,3]):\", sum([1,2,3]))\n",
    "print(\"min([1,2,3]):\", min([1,2,3]))\n",
    "print(\"abs(-11):\", abs(-11))\n",
    "print(\"pow(2,10):\", pow(2,10))\n",
    "print(\"round(3.141595):\", round(3.141595))\n",
    "print(\"round(3.141595):\",round(3.141595,2))\n",
    "# 함수의 형태가 다르면 : 오버로딩\n",
    "# 파이썬 오버로딩이 없음 => 디폴프 매개변수"
   ]
  },
  {
   "cell_type": "code",
   "execution_count": 33,
   "metadata": {},
   "outputs": [
    {
     "name": "stdout",
     "output_type": "stream",
     "text": [
      "19\n",
      "19\n"
     ]
    }
   ],
   "source": [
    "# 문제 : 숫자 4,7,8를 리스트로 초기화하고 합계를 출력하시오\n",
    "a = [4,7,8]\n",
    "print(sum(a))\n",
    "print(sum([4,7,8]))"
   ]
  },
  {
   "cell_type": "code",
   "execution_count": 37,
   "metadata": {},
   "outputs": [
    {
     "name": "stdout",
     "output_type": "stream",
     "text": [
      "몫 :  2\n",
      "나머지 :  1\n",
      "숫자를 입력하세요1\n",
      "숫자를 입력하세요2\n",
      "3\n"
     ]
    }
   ],
   "source": [
    "# 문제 : 두 수를 입력받아 몫과 나머지를 출력하시오.\n",
    "a = 7\n",
    "b = 3\n",
    "\n",
    "print(\"몫 : \", 7//3)\n",
    "print(\"나머지 : \", 7%3)\n",
    "\n",
    "\n",
    "c = int(input(\"숫자를 입력하세요\"))\n",
    "d = int(input(\"숫자를 입력하세요\"))\n",
    "print(c+d)"
   ]
  },
  {
   "cell_type": "markdown",
   "metadata": {},
   "source": [
    "# Scope"
   ]
  },
  {
   "cell_type": "code",
   "execution_count": 38,
   "metadata": {},
   "outputs": [
    {
     "name": "stdout",
     "output_type": "stream",
     "text": [
      "200\n",
      "300\n"
     ]
    }
   ],
   "source": [
    "x = 300   # 전역변수\n",
    "def myfunc() : # 함수도 리턴타입을 지정하지 않음\n",
    "    x  = 200  # 지역 변수 : 함수와 생사를 같이함 ( 호출될 때 생성되고, 리턴되고 사라짐 )\n",
    "    print(x)\n",
    "myfunc()\n",
    "print(x)"
   ]
  },
  {
   "cell_type": "code",
   "execution_count": 42,
   "metadata": {},
   "outputs": [
    {
     "name": "stdout",
     "output_type": "stream",
     "text": [
      "숫자를 입력하시오.12\n",
      "나머지:  0\n",
      "가위\n"
     ]
    }
   ],
   "source": [
    "# 어떤 수가 들어오더라도 나머지가 0: 가위. 1: 바위, 2:보 로 출력하시오\n",
    "\n",
    "def rcp() :\n",
    "    x = int(input(\"숫자를 입력하시오.\"))\n",
    "    print(\"나머지: \", x%3)\n",
    "    if x % 3 == 0:\n",
    "        print(\"가위\")\n",
    "    elif x % 3 == 1:\n",
    "        print(\"바위\")\n",
    "    else :\n",
    "        print(\"보\")\n",
    "\n",
    "rcp()\n",
    "\n"
   ]
  },
  {
   "cell_type": "code",
   "execution_count": 65,
   "metadata": {},
   "outputs": [
    {
     "name": "stdout",
     "output_type": "stream",
     "text": [
      "4\n",
      "earths\n",
      "['fire', 'air']\n",
      "['air', 1, 'water', 'fire', 'earths']\n"
     ]
    }
   ],
   "source": [
    "#random : 프로그램에서 난수는 의사난수임( 완전한 랜덤이 아님 )\n",
    "\n",
    "import random\n",
    "random.seed(1000) # 시작값 고정시켜줌\n",
    "print(random.randint(1,5))\n",
    "elements = [\"earth\", 1, \"air\",\"fire\",\"water\"]\n",
    "elements[0] = \"earths\"\n",
    "print(random.choice(elements))\n",
    "print(random.sample(elements,2))\n",
    "random.shuffle(elements)\n",
    "print(elements)"
   ]
  },
  {
   "cell_type": "code",
   "execution_count": 67,
   "metadata": {},
   "outputs": [
    {
     "name": "stdout",
     "output_type": "stream",
     "text": [
      "True\n",
      "True\n",
      "True\n"
     ]
    }
   ],
   "source": [
    "#비교연산자와 논리 연산자 ( >= , <= , == , < , >) ( and, or , not )\n",
    "a = 20\n",
    "b = 10\n",
    "c = a >10 and b < 50 \n",
    "print( c )\n",
    "c = 10 < a < 50\n",
    "print( c )\n",
    "\n",
    "c  = 10 < a < 50\n",
    "print( c )"
   ]
  },
  {
   "cell_type": "code",
   "execution_count": 68,
   "metadata": {},
   "outputs": [
    {
     "name": "stdout",
     "output_type": "stream",
     "text": [
      "6 5\n"
     ]
    }
   ],
   "source": [
    "# swap\n",
    "x = 5\n",
    "y = 6\n",
    "x ,y = y, x # 리턴값이 2개 이상도 가능\n",
    "print(x, y)"
   ]
  },
  {
   "cell_type": "code",
   "execution_count": 71,
   "metadata": {},
   "outputs": [
    {
     "name": "stdout",
     "output_type": "stream",
     "text": [
      "[3, ['a', 'b', 'c'], 4]\n",
      "['a', 'b']\n",
      "1\n",
      "Life\n"
     ]
    }
   ],
   "source": [
    "#list 안에 list\n",
    "#리스트는 주소를 담아논 항아리 ( 직접 데이터를 담지 않음  )\n",
    "\n",
    "a = [1,2,3, ['a','b','c'], 4, 5]\n",
    "print(a[2:5])\n",
    "print(a[3][:2])\n",
    "\n",
    "#2차원 리스트\n",
    "\n",
    "a =  [['a','b','c'],['a','b','c'],['a','b','c']]\n",
    "#3차 리스트\n",
    "a = [1, 2, ['a','b',['Life','is']]]\n",
    "print(a[0])\n",
    "print(a[2][2][0])"
   ]
  },
  {
   "cell_type": "code",
   "execution_count": 74,
   "metadata": {},
   "outputs": [
    {
     "name": "stdout",
     "output_type": "stream",
     "text": [
      "60\n",
      "60\n",
      "80\n"
     ]
    },
    {
     "data": {
      "text/plain": [
       "[10, 20, 30, 40, 50, 70]"
      ]
     },
     "execution_count": 74,
     "metadata": {},
     "output_type": "execute_result"
    }
   ],
   "source": [
    "# 리스트를 이용한 스택( stack )   First In / Last Out : 복귀주소저장( 함수의 운용 )\n",
    "\n",
    "a = [10,20,30,40,50]\n",
    "a.append(60)  # 데이터 추가시 append 사용\n",
    "print(a.pop()) # 뒤에서 데이터를 가지고 오면서 삭제 \n",
    "a.append(60)\n",
    "print(a.pop())\n",
    "a.append(70)\n",
    "a.append(80)\n",
    "print(a.pop())\n",
    "a"
   ]
  },
  {
   "cell_type": "code",
   "execution_count": 85,
   "metadata": {},
   "outputs": [
    {
     "name": "stdout",
     "output_type": "stream",
     "text": [
      "7 12\n",
      "7\n"
     ]
    },
    {
     "data": {
      "text/plain": [
       "(9, 20)"
      ]
     },
     "execution_count": 85,
     "metadata": {},
     "output_type": "execute_result"
    }
   ],
   "source": [
    "#v파이썬 함수 - 리턴값의 지정은 없음\n",
    "#define\n",
    "def calc(a,b) :  #함수의 역할 : 작업 , 매개변수 : 작업할 때 필요한 데이터\n",
    "    return a+b, a*b\n",
    "x,y = calc(3,4)\n",
    "print(x,y)\n",
    "print(x)\n",
    "x,y\n",
    "args = (4,5)\n",
    "calc(*args)  # 포인터   # calc의 매개변수 a,b는 각각 별개인데, args의 튜플은 하나임\n",
    "#-> *를 사용하여 매개변수를 따로 삽입\n",
    "\n",
    "\n",
    "\n"
   ]
  },
  {
   "cell_type": "code",
   "execution_count": 91,
   "metadata": {},
   "outputs": [
    {
     "data": {
      "text/plain": [
       "dict_items([('one', 1), ('two', 2)])"
      ]
     },
     "execution_count": 91,
     "metadata": {},
     "output_type": "execute_result"
    }
   ],
   "source": [
    "# dictionary  ==> 검색할때 가장 속도가 빠름\n",
    "d = {'one':1, 'two':2}  # key  : 저장될 주소값으로 계산됨\n",
    "d.items()\n",
    "\n"
   ]
  },
  {
   "cell_type": "code",
   "execution_count": 157,
   "metadata": {},
   "outputs": [
    {
     "name": "stdout",
     "output_type": "stream",
     "text": [
      "2\n",
      "True\n",
      "1\n"
     ]
    },
    {
     "data": {
      "text/plain": [
       "['suwon', 'seoul', 'incheon']"
      ]
     },
     "execution_count": 157,
     "metadata": {},
     "output_type": "execute_result"
    }
   ],
   "source": [
    "cities = ['seoul', 'incheon', \"suwon\"]\n",
    "print(cities.index('suwon'))\n",
    "print('incheon' in cities) # 포함 연산자\n",
    "print(cities.count('seoul'))\n",
    "sorted(cities)  # 오름차순\n",
    "sorted(cities, reverse = True) "
   ]
  },
  {
   "cell_type": "code",
   "execution_count": 158,
   "metadata": {},
   "outputs": [
    {
     "name": "stdout",
     "output_type": "stream",
     "text": [
      "['seoul', 'incheon', 'suwon']\n",
      "['seoul', 'incheon', 'suwon', 'busan']\n",
      "['daegu', 'seoul', 'incheon', 'suwon', 'busan']\n",
      "comb :  ['daegu', 'seoul', 'incheon', 'suwon', 'busan', 'jeju', 'kwangju']\n",
      "['daegu', 'seoul', 'incheon', 'suwon', 'busan', ['daegt', 'ulsan']]\n",
      "['daegu', 'seoul', 'incheon', 'suwon', 'busan', ['daegt', 'ulsan'], ['jeju', 'kwangju']]\n"
     ]
    }
   ],
   "source": [
    "print(cities)\n",
    "cities.append('busan')\n",
    "print(cities)\n",
    "cities.insert(0, 'daegu')  # 데이터 삽입\n",
    "print(cities)\n",
    "other_cities = ['jeju','kwangju']\n",
    "print(\"comb : \", cities + other_cities) # 리스트 + 연산자\n",
    "cities.append(['daegt','ulsan']) # 모양이 유지가 됨\n",
    "print(cities)\n",
    "\n",
    "cities.append(['jeju','kwangju'])\n",
    "\n",
    "print(cities)\n"
   ]
  },
  {
   "cell_type": "code",
   "execution_count": null,
   "metadata": {},
   "outputs": [],
   "source": [
    "# 자료구조를 데이터 타입화 ( python core 에서 사용하는 자료구조 )\n",
    "# list : 데이터의 앞뒤에 다음이나 이전 데이터의 주소가 저장 \n",
    "#      - 메모리를 효율적으로 사용하고 삽입 삭제를 용이하게하기 위해서 사용하는 자료구조\n",
    "# dict : key값이 데이터가 저장되어지는 주소값으로 계산되는 hash 함수를 이용해 데이터를 저장\n",
    "#      - 검색속도가 빠름\n",
    "#      - 데이터 : 주소값으로 변환되어지는 key : 데이터 형식으로 저장됨\n",
    "# set : key만 저장 ( 중복 불허 ) \n",
    "#      - 범주형 데이터의 종류를 확인할 때 사용\n",
    "# tuple : list와 동일한데 변경이 불가능함 ( 함수가 작음 )\n",
    "#      - 함수의 매개변수로 값을 전달하거나 여러 개의 값을 리턴하고 싶을 때 사용( 주로 시스템에서 사용 )\n",
    "#      - 리스트보다 속도가 빠름"
   ]
  },
  {
   "cell_type": "code",
   "execution_count": 159,
   "metadata": {},
   "outputs": [
    {
     "name": "stdout",
     "output_type": "stream",
     "text": [
      "['daegu', 'seoul', 'incheon', 'suwon', 'busan', ['daegt', 'jeju'], ['jeju', 'kwangju']]\n",
      "['daegu', 'seoul', 'incheon', 'suwon', 'busan', ['daegt'], ['jeju', 'kwangju']]\n"
     ]
    }
   ],
   "source": [
    "cities[5]\n",
    "cities[5][1] = 'jeju'\n",
    "print(cities)\n",
    "cities[5].remove(cities[5][1])\n",
    "print(cities)"
   ]
  },
  {
   "cell_type": "code",
   "execution_count": 162,
   "metadata": {},
   "outputs": [
    {
     "name": "stdout",
     "output_type": "stream",
     "text": [
      "점수입력 :  11000000\n",
      "A\n"
     ]
    }
   ],
   "source": [
    "print(\"점수입력 : \", end = ' ')\n",
    "jumsu = int(input())\n",
    "if jumsu >= 90: print('A')\n",
    "elif jumsu >= 80 : print('B')\n",
    "elif jumsu >= 70: print('C')\n",
    "elif jumsu >= 60: print('D')\n",
    "else : print('F')"
   ]
  },
  {
   "cell_type": "code",
   "execution_count": 167,
   "metadata": {},
   "outputs": [
    {
     "name": "stdout",
     "output_type": "stream",
     "text": [
      "1 : BLUE \n",
      " 2 : RED\n",
      "color를 선택하세요.2\n",
      "1 : STEADY \n",
      " 2 : FLASHING\n",
      "mode를 선택하세요.2\n",
      "눈오는날\n"
     ]
    }
   ],
   "source": [
    "# 다음 표( color와 mode에 따른 날씨)를 if문을 이용하여 출력하시오.\n",
    "# (반응에 따른 날씨 예측 프로그램 )\n",
    "#                       BLUE               RED\n",
    "#       STEADY          화창              비오는날\n",
    "#       FLASHING        구름              눈오는날\n",
    "\n",
    "col = ['BLUE','RED']\n",
    "mod = ['STEADY','FLASHING']\n",
    "\n",
    "\n",
    "\n",
    "\n",
    "def wd() :\n",
    "    print(\"1 : BLUE\",\"\\n\",\"2 : RED\")\n",
    "    col = int(input(\"color를 선택하세요.\"))\n",
    "    \n",
    "    print(\"1 : STEADY\",\"\\n\", \"2 : FLASHING\")\n",
    "    mod = int(input(\"mode를 선택하세요.\"))\n",
    "    if col == 1 and mod == 1 :\n",
    "        print(\"화창\")\n",
    "    elif col == 1 and mod == 2 :\n",
    "        print(\"구름\")\n",
    "    elif  col == 2 and mod == 1 :\n",
    "        print(\"비오는날\")\n",
    "    elif  col == 2 and mod == 2 :\n",
    "        print(\"눈오는날\")\n",
    "    else :\n",
    "        print(\"입력오류\")\n",
    "\n",
    "wd()"
   ]
  },
  {
   "cell_type": "code",
   "execution_count": 2,
   "metadata": {},
   "outputs": [
    {
     "name": "stdout",
     "output_type": "stream",
     "text": [
      "수입을 입력하시오.200\n",
      "수입 :  200\n",
      "지출을 입력하시오.200\n",
      "지출 :  200\n",
      "순손실 0\n"
     ]
    }
   ],
   "source": [
    "# 수입(revenue)과 지출(costs)을 입력받아 순수입을 출력하는 프로그램을 작성하시오\n",
    "#       - 제약조건 : 소수점 이하 2자리까지 출력\n",
    "#                  : 수입과 지출이 동일한 경우를 고려(손익분기점)\n",
    "#                  : 결과 출력 시 경우에 따라 순수익, 순손실도 같이 출력하도록 하시오\n",
    "\n",
    "def income() :\n",
    "    revenue = int(input(\"수입을 입력하시오.\"))\n",
    "    print(\"수입 : \", revenue)\n",
    "    costs = int(input(\"지출을 입력하시오.\"))\n",
    "    print(\"지출 : \", costs)\n",
    "\n",
    "    if revenue > costs :\n",
    "        income = round((revenue - costs),3)\n",
    "        print(\"순수익\", income)\n",
    "        if revenue == costs :\n",
    "            print(\"손익분기점 : \", revenue)\n",
    "    else : \n",
    "        lost = round((costs-revenue),3)\n",
    "        print(\"순손실\",lost)\n",
    "\n",
    "income()\n"
   ]
  },
  {
   "cell_type": "code",
   "execution_count": null,
   "metadata": {},
   "outputs": [],
   "source": []
  },
  {
   "cell_type": "code",
   "execution_count": null,
   "metadata": {},
   "outputs": [],
   "source": []
  }
 ],
 "metadata": {
  "kernelspec": {
   "display_name": "Python 3",
   "language": "python",
   "name": "python3"
  },
  "language_info": {
   "codemirror_mode": {
    "name": "ipython",
    "version": 3
   },
   "file_extension": ".py",
   "mimetype": "text/x-python",
   "name": "python",
   "nbconvert_exporter": "python",
   "pygments_lexer": "ipython3",
   "version": "3.7.4"
  }
 },
 "nbformat": 4,
 "nbformat_minor": 4
}
