{
 "cells": [
  {
   "cell_type": "code",
   "execution_count": 2,
   "metadata": {},
   "outputs": [
    {
     "name": "stdout",
     "output_type": "stream",
     "text": [
      "10\n",
      "10\n"
     ]
    }
   ],
   "source": [
    "a = 10 #주소 => 값저장(맵핑)\n",
    "b = a  #10이 대입되는 것이 아니고 a가 가리키는 주소가 대입\n",
    "print(a)\n",
    "print(b)"
   ]
  },
  {
   "cell_type": "code",
   "execution_count": 3,
   "metadata": {},
   "outputs": [
    {
     "name": "stdout",
     "output_type": "stream",
     "text": [
      "주소값 대입 140708471153328\n",
      "140708471153328\n"
     ]
    },
    {
     "data": {
      "text/plain": [
       "(None, None)"
      ]
     },
     "execution_count": 3,
     "metadata": {},
     "output_type": "execute_result"
    }
   ],
   "source": [
    "#주소값 일치 \n",
    "print(\"주소값 대입\", id(a)), print(id(b))"
   ]
  },
  {
   "cell_type": "code",
   "execution_count": 4,
   "metadata": {},
   "outputs": [
    {
     "name": "stdout",
     "output_type": "stream",
     "text": [
      "20\n",
      "10\n",
      "주소값 대입 140708471153648\n",
      "140708471153328\n"
     ]
    },
    {
     "data": {
      "text/plain": [
       "(None, None)"
      ]
     },
     "execution_count": 4,
     "metadata": {},
     "output_type": "execute_result"
    }
   ],
   "source": [
    "a = 20\n",
    "print(a)\n",
    "print(b)\n",
    "print(\"주소값 대입\", id(a)), print(id(b))"
   ]
  },
  {
   "cell_type": "code",
   "execution_count": 5,
   "metadata": {},
   "outputs": [],
   "source": [
    "#파이썬은 대소문자를 구분한다."
   ]
  },
  {
   "cell_type": "code",
   "execution_count": 6,
   "metadata": {},
   "outputs": [
    {
     "data": {
      "text/plain": [
       "int"
      ]
     },
     "execution_count": 6,
     "metadata": {},
     "output_type": "execute_result"
    }
   ],
   "source": [
    "type(a)"
   ]
  },
  {
   "cell_type": "code",
   "execution_count": 7,
   "metadata": {},
   "outputs": [
    {
     "name": "stdout",
     "output_type": "stream",
     "text": [
      "10\n"
     ]
    }
   ],
   "source": [
    "a =10\n",
    "A =20\n",
    "print(a)"
   ]
  },
  {
   "cell_type": "code",
   "execution_count": 8,
   "metadata": {},
   "outputs": [
    {
     "name": "stdout",
     "output_type": "stream",
     "text": [
      "수식을 입력하시요dfasdf\n",
      "dfasdf\n"
     ]
    },
    {
     "ename": "NameError",
     "evalue": "name 'dfasdf' is not defined",
     "output_type": "error",
     "traceback": [
      "\u001b[1;31m---------------------------------------------------------------------------\u001b[0m",
      "\u001b[1;31mNameError\u001b[0m                                 Traceback (most recent call last)",
      "\u001b[1;32m<ipython-input-8-4d3154dc7421>\u001b[0m in \u001b[0;36m<module>\u001b[1;34m\u001b[0m\n\u001b[0;32m      4\u001b[0m \u001b[0mprint\u001b[0m\u001b[1;33m(\u001b[0m\u001b[0mproblem\u001b[0m\u001b[1;33m)\u001b[0m\u001b[1;33m\u001b[0m\u001b[1;33m\u001b[0m\u001b[0m\n\u001b[0;32m      5\u001b[0m \u001b[1;31m#print(int(problem))  #데이터 casting : 데이터 형변환\u001b[0m\u001b[1;33m\u001b[0m\u001b[1;33m\u001b[0m\u001b[1;33m\u001b[0m\u001b[0m\n\u001b[1;32m----> 6\u001b[1;33m \u001b[0mprint\u001b[0m\u001b[1;33m(\u001b[0m\u001b[0meval\u001b[0m\u001b[1;33m(\u001b[0m\u001b[0mproblem\u001b[0m\u001b[1;33m)\u001b[0m\u001b[1;33m)\u001b[0m \u001b[1;31m#평가\u001b[0m\u001b[1;33m\u001b[0m\u001b[1;33m\u001b[0m\u001b[0m\n\u001b[0m",
      "\u001b[1;32m<string>\u001b[0m in \u001b[0;36m<module>\u001b[1;34m\u001b[0m\n",
      "\u001b[1;31mNameError\u001b[0m: name 'dfasdf' is not defined"
     ]
    }
   ],
   "source": [
    "#데이터 입력 : 프롬프트 텍스트 입력\n",
    "problem = input(\"수식을 입력하시요\") #데이터 입출력은 문자열로 입출력됨\n",
    "# 연산을 위해 데이터 타입을 숫자로 변경\n",
    "print(problem)\n",
    "#print(int(problem))  #데이터 casting : 데이터 형변환\n",
    "print(eval(problem)) #평가"
   ]
  },
  {
   "cell_type": "code",
   "execution_count": null,
   "metadata": {},
   "outputs": [],
   "source": [
    "a3 = 4.24e-3 #exponent 지수형\n",
    "a4 = 0o177 #octal 8진수로 표현\n",
    "print(a3)\n",
    "print(a4)"
   ]
  },
  {
   "cell_type": "code",
   "execution_count": null,
   "metadata": {},
   "outputs": [],
   "source": [
    "#fullName 문자열 : 기본이 1차원 배열, 숫자  int:4바이트 float 4바이트\n",
    "fullName =input(\"이름을 입력하세요: \")\n",
    "n = fullName.rfind(\" \")\n",
    "\n",
    "print(fullName[0]) #배열과 리스트의 인덱싱은 동일하다.\n",
    "print(fullName[1])\n",
    "print(fullName[2])\n",
    "print(n)\n",
    "print(\"이름:\", fullName[n+1:])\n",
    "print(\"성(s):\", fullName[:n])"
   ]
  },
  {
   "cell_type": "code",
   "execution_count": null,
   "metadata": {},
   "outputs": [],
   "source": [
    "\n",
    "s = 'korea'\n",
    "print(s+s)\n",
    "print(s*3)\n",
    "print(s[0:])\n",
    "print(s[4])\n",
    "print(s[-1]) # R에서 - 인덱스 : 제외하고, 파이썬에서는 뒤에서\n",
    "print(s[1:3]) #끝은 제외\n",
    "print(s[-2:])\n",
    "print(s[-2:5])\n",
    "print(s[3:-1])\n",
    "print(len(s))\n",
    "s.split('r')"
   ]
  },
  {
   "cell_type": "code",
   "execution_count": null,
   "metadata": {},
   "outputs": [],
   "source": [
    "# csv 데이터 : comma로 분리된 데이터\n",
    "t = 'Seoul, Incheon, won'.split('.')\n",
    "print(t) # 리스트로 분할"
   ]
  },
  {
   "cell_type": "code",
   "execution_count": null,
   "metadata": {},
   "outputs": [],
   "source": [
    "','.join(t)"
   ]
  },
  {
   "cell_type": "code",
   "execution_count": null,
   "metadata": {},
   "outputs": [],
   "source": [
    "# 파이썬은 객체 지향 프로그래밍으로 설계된 언어임 : 모든 것이 객체임, 함수도 객체임\n",
    "# c, java 는 객체지향을 별도로 학습\n",
    "# python은 자체가 객체지향언어임\n",
    "s = 'korea'\n",
    "print(s.capitalize())\n",
    "print(s.find('r'))\n",
    "print(s.count('re'))\n",
    "print(s.isalpha())\n",
    "print(s.isdigit())\n",
    "print('0123'.isdigit())\n",
    "print(s.replace('r', 'R'))\n",
    "print(s.startswith('K'))\n",
    "print(s.endswith('a'))"
   ]
  },
  {
   "cell_type": "code",
   "execution_count": null,
   "metadata": {},
   "outputs": [],
   "source": [
    "#산술연산\n",
    "a = 3\n",
    "b = 4\n",
    "\n",
    "print(a+b, a-b, a*b, a/b)\n",
    "print(a/b)\n",
    "print(a%b) #나머지 연산자 : 경우의 수를 생성할 때 : 변수가 가질 수 있는 경우의 수를 확인\n",
    "print(1%2)\n",
    "print(2%2)\n",
    "print(3%2)\n",
    "print(4%2)\n",
    "\n",
    "print(7/4)\n",
    "print(7//4)# 몫연산자"
   ]
  },
  {
   "cell_type": "code",
   "execution_count": null,
   "metadata": {},
   "outputs": [],
   "source": [
    "# 내장함수 :\n",
    "# 괄호 : [] > list, {} > dict, set, () : tuple, 함수에서 사용\n",
    "print(\"sum([1,2,3]):\", sum([1,2,3]))\n",
    "print(\"min([1,2,3]):\", min([1,2,3]))\n",
    "print(\"abs(-11):\",abs(-11))                 #absolute\n",
    "print(\"pow(2,10):\", pow(2,10))               #power\n",
    "print(\"round(3.141495):\", round(3.141495))   #반올림\n",
    "print(\"round(3.141495):\", round(3.141495, 2))\n",
    "# 함수의 형태가 다르면 : 오버로딩\n",
    "# 파이썬 오버로딩이 없음 => 디폴트 매개변수"
   ]
  },
  {
   "cell_type": "code",
   "execution_count": null,
   "metadata": {},
   "outputs": [],
   "source": [
    "# 문제 : 숫자 4,7,8 을 리스트로 초기화하고 합계를 출력하시요"
   ]
  },
  {
   "cell_type": "code",
   "execution_count": null,
   "metadata": {},
   "outputs": [],
   "source": [
    "print(\"sum:\", sum([4,7,8]))"
   ]
  },
  {
   "cell_type": "code",
   "execution_count": null,
   "metadata": {},
   "outputs": [],
   "source": [
    "# 두 수를 입력받아 몫과 나머지를 출력"
   ]
  },
  {
   "cell_type": "code",
   "execution_count": null,
   "metadata": {},
   "outputs": [],
   "source": [
    "a=input(\"숫자를 입력하세요: \")\n",
    "b=input(\"숫자를 입력하세요: \")\n",
    "c=int(a)+int(b)\n",
    "print(\"몫\", c//2)\n",
    "print(\"나머지\", c%2)\n",
    "\n",
    "# 파이썬의 블록은 들여쓰기임 : 블록 : 여러일을 묶는 역할\n",
    "#: 조건문, 반복문, 함수\n",
    "\n",
    "if remainder == 0:\n",
    "    print(\"짝수입니다.\")\n",
    "    print('짝수입니다.')\n",
    "    print(\"짝수입니다.\")\n",
    "else:\n",
    "    print(\"홀수입니다.\")"
   ]
  },
  {
   "cell_type": "code",
   "execution_count": null,
   "metadata": {},
   "outputs": [],
   "source": [
    "x = 300\n",
    "def myfunc(): #함수도 리턴타입을 지정하지 않음\n",
    "    x=200     #지역변수 : 함수와 생사를 같이함\n",
    "    print(x)\n",
    "myfunc()\n",
    "print(x)"
   ]
  },
  {
   "cell_type": "code",
   "execution_count": null,
   "metadata": {},
   "outputs": [],
   "source": [
    "# 어떤 수가 들어 오더라도 나머지가 0:가위, 1: 바위, 2: 보 로 출력하시요"
   ]
  },
  {
   "cell_type": "code",
   "execution_count": null,
   "metadata": {},
   "outputs": [],
   "source": [
    "a=input(\"숫자를 입력하세요: \")\n",
    "b = int(a)%3\n",
    "if b == 0:\n",
    "    print(\"가위입니다.\")\n",
    "else:\n",
    "    if b==1:\n",
    "        print(\"바위입니다.\")\n",
    "    else:\n",
    "        print(\"보 입니다.\")\n"
   ]
  },
  {
   "cell_type": "code",
   "execution_count": null,
   "metadata": {},
   "outputs": [],
   "source": [
    "# random : 프로그램에서 난수는 의사난수임\n",
    "import random\n",
    "random.seed(1000)\n",
    "print(random.randint(1,5))\n",
    "elements = [\"earth\", 1, \"air\", \"fire\", \"water\"]\n",
    "elements[0]= \"earths\"\n",
    "print(random.choice(elements))\n",
    "print(random.sample(elements, 2))\n",
    "random.shuffle(elements)\n",
    "print(elements)"
   ]
  },
  {
   "cell_type": "code",
   "execution_count": null,
   "metadata": {},
   "outputs": [],
   "source": [
    "# 비교연산자(>=,<=, ==, <, >)와 놀리 연산자(and, or, not)\n",
    "a=20\n",
    "b=10\n",
    "c= a>10 and b<50\n",
    "print(c)\n",
    "\n",
    "c=10<a<50\n",
    "print(c)"
   ]
  },
  {
   "cell_type": "code",
   "execution_count": null,
   "metadata": {},
   "outputs": [],
   "source": [
    "#swap\n",
    "x = 5\n",
    "y = 6\n",
    "x, y =y,x # 리턴값이 2개 이상도 가능\n",
    "print(x, y)"
   ]
  },
  {
   "cell_type": "code",
   "execution_count": null,
   "metadata": {},
   "outputs": [],
   "source": [
    "# list 안의 list\n",
    "# 2차리슨트\n",
    "a = [1, 2, 3,['a', 'b', 'c'], 4, 5]\n",
    "print(a[2:5])\n",
    "print(a[3][:2])\n",
    "\n",
    "#3차 리스트\n",
    "a=[1,2,['a','b',['life', 'is']]]\n",
    "print(a[0])\n",
    "print(a[2][2][0])"
   ]
  },
  {
   "cell_type": "code",
   "execution_count": null,
   "metadata": {},
   "outputs": [],
   "source": [
    "#리스트(list)를 이용한 스택(stack)  LILO:복귀주소저장(함수의 운용)\n",
    "a = [10,20,30,40,50]\n",
    "a.append(60)    #데이터 추가시 apppend함수 사용\n",
    "print(a.pop())      #뒤에서 데이터를 가지고 오면서 삭제\n",
    "a.append(60)\n",
    "print(a.pop())\n",
    "a.append(70)\n",
    "a.append(80)\n",
    "print(a.pop())\n",
    "print(a)"
   ]
  },
  {
   "cell_type": "code",
   "execution_count": null,
   "metadata": {},
   "outputs": [],
   "source": [
    "#파이써 함수 - 리턴값의 지정은 없음\n",
    "# define\n",
    "\n",
    "def calc(a,b):     #함수의 역할 : 작업 , 매개변수 : 작을 할 때 필요한 데이터\n",
    "    return a+b, a*b\n",
    "x,y=calc(3,4)\n",
    "print(x,y)\n",
    "print(x)\n",
    "x,y\n",
    "args=(4,5)   #tuple\n",
    "calc(*args) # 포인터 # * 이 변수를 찢어줌"
   ]
  },
  {
   "cell_type": "code",
   "execution_count": null,
   "metadata": {},
   "outputs": [],
   "source": [
    "#dictionary\n",
    "d= {'one':1, 'two':2}   # key => 저장될 주소값으로 계산됨 - 검색에서 가장 속도가 빠른\n",
    "d.items()\n",
    "#mongodb => noSQL\n"
   ]
  },
  {
   "cell_type": "code",
   "execution_count": null,
   "metadata": {},
   "outputs": [],
   "source": [
    "cities = ['seoul', ' incheon', 'suwon']\n",
    "print(cities.index('suwon'))   #2\n",
    "print('incheon' in cities)     #포함연산자\n",
    "print(cities.count('seoul'))\n",
    "sorted(cities)                 #오름차순\n",
    "sorted(cities, reverse=True)  #내림차순"
   ]
  },
  {
   "cell_type": "code",
   "execution_count": null,
   "metadata": {},
   "outputs": [],
   "source": [
    "print(cities)\n",
    "cities.append('busan')\n",
    "print(cities)\n",
    "cities.insert(0, 'daegu')  #데이터 삽입\n",
    "print(cities)\n",
    "other_cities = ['jeju', 'kwangju']\n",
    "print('결합', cities + other_cities) \n",
    "cities.append(['daejun', 'ulsan'])\n",
    "print(cities)\n",
    "cities.extend(['jeju','kwangju'])"
   ]
  },
  {
   "cell_type": "code",
   "execution_count": null,
   "metadata": {},
   "outputs": [],
   "source": [
    "print(cities[5])\n",
    "print(cities[5][1])\n",
    "cities[5][1]='jeju'\n",
    "print(cities)"
   ]
  },
  {
   "cell_type": "code",
   "execution_count": null,
   "metadata": {},
   "outputs": [],
   "source": [
    "cities[5].remove(cities[5][1])\n",
    "print(cities)"
   ]
  },
  {
   "cell_type": "code",
   "execution_count": null,
   "metadata": {},
   "outputs": [],
   "source": [
    "print(' 점수입력 : ',end= '')\n",
    "jumsu = int(input())\n",
    "if jumsu >= 90: print('A')\n",
    "elif jumsu >= 80: print('B')\n",
    "elif jumsu >= 70: print('C')\n",
    "elif jumsu >= 60: print('D')\n",
    "else: print('F')"
   ]
  },
  {
   "cell_type": "code",
   "execution_count": null,
   "metadata": {},
   "outputs": [],
   "source": [
    "\"\"\"# 자료구조를 데이터 타입화\n",
    "#리스트 : 데이터의 앞뒤에 다음이나 이전 데이터의 주소가 저장\n",
    "        :메모리를 효율적으로 사용하고 삽입삭제를 용이하게 하기 위해서 사용하는 자료구조\n",
    "        :검색에서는 속도가 느림\n",
    "#딕션: 키값이 데이터가 저장되어지는 주소값으로 계산되는 해쉬 함수 이용해 데이터 저장, 검색속도가 빠름\n",
    "        데이터 주소값으로 변화되어지는 키 : 데이터 형식으로 저장됨\n",
    "#셋: 키이만 저장 (중복불허) : 범주형 데이터의 종류를 확인할 때 사용\n",
    "#튜플: 리스트와 동일한데 변경이 불가능함(함수가 작음), 함수의 매개변수로 값을 전달하거나 여러개의 값을 리턴하고 싶을 때 사용 \n",
    "        :속도가 빠름\"\"\"\n"
   ]
  },
  {
   "cell_type": "code",
   "execution_count": null,
   "metadata": {},
   "outputs": [],
   "source": [
    "# a,b 로 이름을 짓지 않는다.\n",
    "'''다음 표 (color와 mode에 따른 날씨)를 if문을 이용하여 출력\n",
    "    (반응에 따른 날씨 예측 프로그램)\n",
    "                블루        레드\n",
    "    STEADY      화창       비 오는 날\n",
    "    FLASHING    구름       눈 오는 날"
   ]
  },
  {
   "cell_type": "code",
   "execution_count": null,
   "metadata": {},
   "outputs": [],
   "source": [
    "color=input(\"색상을 입력하세요.(blue, red): \")\n",
    "mode=input(\"모드를 입력하세요.(steady, flashing): \")\n",
    "color=color.upper()\n",
    "mode=mode.upper()\n",
    "result =\"\"\n",
    "if color==\"blue\":\n",
    "    if mode==\"STRADY\":\n",
    "            result=\"화창\"\n",
    "    else:\n",
    "            result=\"구름\"\n",
    "else:\n",
    "    if mode ==\"STRADY\":\n",
    "            result=\"비오는 날\"\n",
    "    else:\n",
    "            result=\"눈오는 날\"\n",
    "print(\"날씨는\", result)"
   ]
  },
  {
   "cell_type": "code",
   "execution_count": 9,
   "metadata": {},
   "outputs": [],
   "source": [
    "# 수입(revenue)과 지출(costs)을 입력 받아 순수입을 출력하는 츠로그램을 작성하시요\n",
    "# -제약조건 : 소수점 이하 2자리 까지 출력 (round)\n",
    "# :수입과 지출이 동일한 경우를 고려하시요(손익분기점)\n",
    "# :결과 출력시 경우에 따라 순수익, 순손실도 같이 출력하도록 하시요"
   ]
  },
  {
   "cell_type": "code",
   "execution_count": 12,
   "metadata": {},
   "outputs": [
    {
     "name": "stdout",
     "output_type": "stream",
     "text": [
      "수입을 입력하세요.: 200\n",
      "지출을 입력하세요: 300\n",
      "-100\n"
     ]
    }
   ],
   "source": [
    "revenue=input(\"수입을 입력하세요.: \")\n",
    "costs=input(\"지출을 입력하세요: \")\n",
    "print(int(revenue)-int(costs))\n"
   ]
  },
  {
   "cell_type": "code",
   "execution_count": 15,
   "metadata": {},
   "outputs": [
    {
     "name": "stdout",
     "output_type": "stream",
     "text": [
      "총비용을 입력하시오100\n",
      "총비용을 입력하시오20\n",
      "순손실= 80.00.\n"
     ]
    }
   ],
   "source": [
    "costs = eval(input(\"총비용을 입력하시오\"))\n",
    "revenue = eval(input(\"총비용을 입력하시오\"))\n",
    "if costs == revenue:\n",
    "    result= \"손익분기점입니다.\"\n",
    "else:\n",
    "    if costs < revenue:\n",
    "        profit = revenue -costs\n",
    "        result = \" 순수익 = {0:,.2f}.\".format(round(profit,2))#포멧 문자열\n",
    "    else:\n",
    "        loss = costs- revenue\n",
    "        result =\"순손실= {0:,.2f}.\".format(round(loss,2))\n",
    "print(result)"
   ]
  },
  {
   "cell_type": "code",
   "execution_count": null,
   "metadata": {},
   "outputs": [],
   "source": []
  },
  {
   "cell_type": "code",
   "execution_count": null,
   "metadata": {},
   "outputs": [],
   "source": []
  }
 ],
 "metadata": {
  "kernelspec": {
   "display_name": "Python 3",
   "language": "python",
   "name": "python3"
  },
  "language_info": {
   "codemirror_mode": {
    "name": "ipython",
    "version": 3
   },
   "file_extension": ".py",
   "mimetype": "text/x-python",
   "name": "python",
   "nbconvert_exporter": "python",
   "pygments_lexer": "ipython3",
   "version": "3.7.4"
  }
 },
 "nbformat": 4,
 "nbformat_minor": 4
}
